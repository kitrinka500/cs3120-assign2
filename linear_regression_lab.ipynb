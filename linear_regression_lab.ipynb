{
  "cells": [
    {
      "cell_type": "markdown",
      "metadata": {
        "id": "view-in-github",
        "colab_type": "text"
      },
      "source": [
        "<a href=\"https://colab.research.google.com/github/kitrinka500/cs3120-assign2/blob/main/linear_regression_lab.ipynb\" target=\"_parent\"><img src=\"https://colab.research.google.com/assets/colab-badge.svg\" alt=\"Open In Colab\"/></a>"
      ]
    },
    {
      "cell_type": "markdown",
      "metadata": {
        "id": "CZrQZhxrBvMV"
      },
      "source": [
        "# Assign 2: Linear Regression Lab\n",
        "\n",
        "In this first lab you will fit a linear regression model. You will also dig deeper by 'training' a linear regression model manually in a few different ways.\n",
        "\n",
        "You might be wondering, \"*why all the excitement about linear regression?*\"  It so happens that regression is one of the workhorses of machine learning, and it also underlies other more complex types of models.  The advantage of regression models is that they are highly interpretable and very stable when it comes to training/fitting. In fact, linear regression models, particularly multiple linear regression with many input predictors, can mimic a lot of the power of more complex models, such as neural networks, while maintaining their computational stability and interpretability. There is a long running joke/meme about companies that claim to use \"machine learning\" actually use linear regression (and logistic regression, which we'll soon see more of). This isn't entirely a joke though since even if a company is using very powerful/complex types of models (e.g. deep neural networks), they will almost always have already tried using a linear regression model because it would be the cheaper and faster solution.  In other words, linear regression is almost always the default modeling approach, and is sometimes hard to beat!\n",
        "\n",
        "*Note that this notebook uses some content from a [course at NYU](https://cims.nyu.edu/~brenden/courses/labincp/labs/LabReg-IntroToRegression.html), which itself borrowed content from [General Assembly's Data Science](https://github.com/justmarkham/DAT4) course, which claims to have adapted materials one of the most authoratative texts on the subject, [An Introduction to Statistical Learning](http://www-bcf.usc.edu/~gareth/ISL/).*\n",
        "\n",
        "\n",
        "Next, we would typically load the Python libraries/modules that we'll use. However, these have been commented because we will load each module individually just before we use it, so that we can start to understand which modules does what."
      ]
    },
    {
      "cell_type": "code",
      "execution_count": null,
      "metadata": {
        "id": "svpQv0eSBvMX"
      },
      "outputs": [],
      "source": [
        "#from IPython.core.display import HTML, Markdown #, display\n",
        "#from sklearn import linear_model\n",
        "#import numpy.random as npr\n",
        "#import numpy as np\n",
        "#import pandas as pd\n",
        "#import seaborn as sns\n",
        "#import matplotlib.pyplot as plt\n",
        "#import scipy.stats as stats\n",
        "#import statsmodels.formula.api as smf\n",
        "#import ipywidgets as widgets"
      ]
    },
    {
      "cell_type": "markdown",
      "metadata": {
        "id": "3FswD_CPBvMY"
      },
      "source": [
        "We are going to use the [statsmodels](https://www.statsmodels.org/stable/index.html) python package to fit our regression model because it has a lot of nice outputs which are helpful for interpreting regressions.  However, you could do almost all of the same using the [scikit-learn](https://scikit-learn.org/stable/) package, which is a more general package for machine learning than can perform various types of sophisticated regression, classification, clustering, and dimensionality reduction steps."
      ]
    },
    {
      "cell_type": "markdown",
      "metadata": {
        "id": "09-FYpmYBvMZ"
      },
      "source": [
        "## Loading the dataset\n",
        "\n",
        "Before training/fitting any model we need data. Below we will load a dataset from the text, [Learning Statistics with R](https://kpu.pressbooks.pub/learningstatistics/). The dataset will help us to explore the factors that lead to a parent being grumpy after having a baby.\n",
        "\n",
        "The data is located in a public github repository but loading will be no different than if it were a local file in our computer. We simply use the link to the file and open it with the [pandas](https://pandas.pydata.org) Python module `read_csv` command.\n",
        "\n",
        "Also, let's look at the first few rows of data. Note that one row can be thought of as one *observation*."
      ]
    },
    {
      "cell_type": "code",
      "execution_count": 1,
      "metadata": {
        "colab": {
          "base_uri": "https://localhost:8080/",
          "height": 206
        },
        "id": "nhQqnKH2BvMZ",
        "outputId": "fb770744-70cb-4d7d-e3ac-2ba656365fb7"
      },
      "outputs": [
        {
          "output_type": "execute_result",
          "data": {
            "text/plain": [
              "   day  parent_sleep  baby_sleep  parent_grumpy\n",
              "0    1          7.59       10.18             56\n",
              "1    2          7.91       11.66             60\n",
              "2    3          5.14        7.92             82\n",
              "3    4          7.71        9.61             55\n",
              "4    5          6.68        9.75             67"
            ],
            "text/html": [
              "\n",
              "  <div id=\"df-11147dd6-4b3d-4190-a676-b50550fa2682\" class=\"colab-df-container\">\n",
              "    <div>\n",
              "<style scoped>\n",
              "    .dataframe tbody tr th:only-of-type {\n",
              "        vertical-align: middle;\n",
              "    }\n",
              "\n",
              "    .dataframe tbody tr th {\n",
              "        vertical-align: top;\n",
              "    }\n",
              "\n",
              "    .dataframe thead th {\n",
              "        text-align: right;\n",
              "    }\n",
              "</style>\n",
              "<table border=\"1\" class=\"dataframe\">\n",
              "  <thead>\n",
              "    <tr style=\"text-align: right;\">\n",
              "      <th></th>\n",
              "      <th>day</th>\n",
              "      <th>parent_sleep</th>\n",
              "      <th>baby_sleep</th>\n",
              "      <th>parent_grumpy</th>\n",
              "    </tr>\n",
              "  </thead>\n",
              "  <tbody>\n",
              "    <tr>\n",
              "      <th>0</th>\n",
              "      <td>1</td>\n",
              "      <td>7.59</td>\n",
              "      <td>10.18</td>\n",
              "      <td>56</td>\n",
              "    </tr>\n",
              "    <tr>\n",
              "      <th>1</th>\n",
              "      <td>2</td>\n",
              "      <td>7.91</td>\n",
              "      <td>11.66</td>\n",
              "      <td>60</td>\n",
              "    </tr>\n",
              "    <tr>\n",
              "      <th>2</th>\n",
              "      <td>3</td>\n",
              "      <td>5.14</td>\n",
              "      <td>7.92</td>\n",
              "      <td>82</td>\n",
              "    </tr>\n",
              "    <tr>\n",
              "      <th>3</th>\n",
              "      <td>4</td>\n",
              "      <td>7.71</td>\n",
              "      <td>9.61</td>\n",
              "      <td>55</td>\n",
              "    </tr>\n",
              "    <tr>\n",
              "      <th>4</th>\n",
              "      <td>5</td>\n",
              "      <td>6.68</td>\n",
              "      <td>9.75</td>\n",
              "      <td>67</td>\n",
              "    </tr>\n",
              "  </tbody>\n",
              "</table>\n",
              "</div>\n",
              "    <div class=\"colab-df-buttons\">\n",
              "\n",
              "  <div class=\"colab-df-container\">\n",
              "    <button class=\"colab-df-convert\" onclick=\"convertToInteractive('df-11147dd6-4b3d-4190-a676-b50550fa2682')\"\n",
              "            title=\"Convert this dataframe to an interactive table.\"\n",
              "            style=\"display:none;\">\n",
              "\n",
              "  <svg xmlns=\"http://www.w3.org/2000/svg\" height=\"24px\" viewBox=\"0 -960 960 960\">\n",
              "    <path d=\"M120-120v-720h720v720H120Zm60-500h600v-160H180v160Zm220 220h160v-160H400v160Zm0 220h160v-160H400v160ZM180-400h160v-160H180v160Zm440 0h160v-160H620v160ZM180-180h160v-160H180v160Zm440 0h160v-160H620v160Z\"/>\n",
              "  </svg>\n",
              "    </button>\n",
              "\n",
              "  <style>\n",
              "    .colab-df-container {\n",
              "      display:flex;\n",
              "      gap: 12px;\n",
              "    }\n",
              "\n",
              "    .colab-df-convert {\n",
              "      background-color: #E8F0FE;\n",
              "      border: none;\n",
              "      border-radius: 50%;\n",
              "      cursor: pointer;\n",
              "      display: none;\n",
              "      fill: #1967D2;\n",
              "      height: 32px;\n",
              "      padding: 0 0 0 0;\n",
              "      width: 32px;\n",
              "    }\n",
              "\n",
              "    .colab-df-convert:hover {\n",
              "      background-color: #E2EBFA;\n",
              "      box-shadow: 0px 1px 2px rgba(60, 64, 67, 0.3), 0px 1px 3px 1px rgba(60, 64, 67, 0.15);\n",
              "      fill: #174EA6;\n",
              "    }\n",
              "\n",
              "    .colab-df-buttons div {\n",
              "      margin-bottom: 4px;\n",
              "    }\n",
              "\n",
              "    [theme=dark] .colab-df-convert {\n",
              "      background-color: #3B4455;\n",
              "      fill: #D2E3FC;\n",
              "    }\n",
              "\n",
              "    [theme=dark] .colab-df-convert:hover {\n",
              "      background-color: #434B5C;\n",
              "      box-shadow: 0px 1px 3px 1px rgba(0, 0, 0, 0.15);\n",
              "      filter: drop-shadow(0px 1px 2px rgba(0, 0, 0, 0.3));\n",
              "      fill: #FFFFFF;\n",
              "    }\n",
              "  </style>\n",
              "\n",
              "    <script>\n",
              "      const buttonEl =\n",
              "        document.querySelector('#df-11147dd6-4b3d-4190-a676-b50550fa2682 button.colab-df-convert');\n",
              "      buttonEl.style.display =\n",
              "        google.colab.kernel.accessAllowed ? 'block' : 'none';\n",
              "\n",
              "      async function convertToInteractive(key) {\n",
              "        const element = document.querySelector('#df-11147dd6-4b3d-4190-a676-b50550fa2682');\n",
              "        const dataTable =\n",
              "          await google.colab.kernel.invokeFunction('convertToInteractive',\n",
              "                                                    [key], {});\n",
              "        if (!dataTable) return;\n",
              "\n",
              "        const docLinkHtml = 'Like what you see? Visit the ' +\n",
              "          '<a target=\"_blank\" href=https://colab.research.google.com/notebooks/data_table.ipynb>data table notebook</a>'\n",
              "          + ' to learn more about interactive tables.';\n",
              "        element.innerHTML = '';\n",
              "        dataTable['output_type'] = 'display_data';\n",
              "        await google.colab.output.renderOutput(dataTable, element);\n",
              "        const docLink = document.createElement('div');\n",
              "        docLink.innerHTML = docLinkHtml;\n",
              "        element.appendChild(docLink);\n",
              "      }\n",
              "    </script>\n",
              "  </div>\n",
              "\n",
              "\n",
              "    <div id=\"df-85ed84f8-2df8-4f70-9c0e-1b60845b91b6\">\n",
              "      <button class=\"colab-df-quickchart\" onclick=\"quickchart('df-85ed84f8-2df8-4f70-9c0e-1b60845b91b6')\"\n",
              "                title=\"Suggest charts\"\n",
              "                style=\"display:none;\">\n",
              "\n",
              "<svg xmlns=\"http://www.w3.org/2000/svg\" height=\"24px\"viewBox=\"0 0 24 24\"\n",
              "     width=\"24px\">\n",
              "    <g>\n",
              "        <path d=\"M19 3H5c-1.1 0-2 .9-2 2v14c0 1.1.9 2 2 2h14c1.1 0 2-.9 2-2V5c0-1.1-.9-2-2-2zM9 17H7v-7h2v7zm4 0h-2V7h2v10zm4 0h-2v-4h2v4z\"/>\n",
              "    </g>\n",
              "</svg>\n",
              "      </button>\n",
              "\n",
              "<style>\n",
              "  .colab-df-quickchart {\n",
              "      --bg-color: #E8F0FE;\n",
              "      --fill-color: #1967D2;\n",
              "      --hover-bg-color: #E2EBFA;\n",
              "      --hover-fill-color: #174EA6;\n",
              "      --disabled-fill-color: #AAA;\n",
              "      --disabled-bg-color: #DDD;\n",
              "  }\n",
              "\n",
              "  [theme=dark] .colab-df-quickchart {\n",
              "      --bg-color: #3B4455;\n",
              "      --fill-color: #D2E3FC;\n",
              "      --hover-bg-color: #434B5C;\n",
              "      --hover-fill-color: #FFFFFF;\n",
              "      --disabled-bg-color: #3B4455;\n",
              "      --disabled-fill-color: #666;\n",
              "  }\n",
              "\n",
              "  .colab-df-quickchart {\n",
              "    background-color: var(--bg-color);\n",
              "    border: none;\n",
              "    border-radius: 50%;\n",
              "    cursor: pointer;\n",
              "    display: none;\n",
              "    fill: var(--fill-color);\n",
              "    height: 32px;\n",
              "    padding: 0;\n",
              "    width: 32px;\n",
              "  }\n",
              "\n",
              "  .colab-df-quickchart:hover {\n",
              "    background-color: var(--hover-bg-color);\n",
              "    box-shadow: 0 1px 2px rgba(60, 64, 67, 0.3), 0 1px 3px 1px rgba(60, 64, 67, 0.15);\n",
              "    fill: var(--button-hover-fill-color);\n",
              "  }\n",
              "\n",
              "  .colab-df-quickchart-complete:disabled,\n",
              "  .colab-df-quickchart-complete:disabled:hover {\n",
              "    background-color: var(--disabled-bg-color);\n",
              "    fill: var(--disabled-fill-color);\n",
              "    box-shadow: none;\n",
              "  }\n",
              "\n",
              "  .colab-df-spinner {\n",
              "    border: 2px solid var(--fill-color);\n",
              "    border-color: transparent;\n",
              "    border-bottom-color: var(--fill-color);\n",
              "    animation:\n",
              "      spin 1s steps(1) infinite;\n",
              "  }\n",
              "\n",
              "  @keyframes spin {\n",
              "    0% {\n",
              "      border-color: transparent;\n",
              "      border-bottom-color: var(--fill-color);\n",
              "      border-left-color: var(--fill-color);\n",
              "    }\n",
              "    20% {\n",
              "      border-color: transparent;\n",
              "      border-left-color: var(--fill-color);\n",
              "      border-top-color: var(--fill-color);\n",
              "    }\n",
              "    30% {\n",
              "      border-color: transparent;\n",
              "      border-left-color: var(--fill-color);\n",
              "      border-top-color: var(--fill-color);\n",
              "      border-right-color: var(--fill-color);\n",
              "    }\n",
              "    40% {\n",
              "      border-color: transparent;\n",
              "      border-right-color: var(--fill-color);\n",
              "      border-top-color: var(--fill-color);\n",
              "    }\n",
              "    60% {\n",
              "      border-color: transparent;\n",
              "      border-right-color: var(--fill-color);\n",
              "    }\n",
              "    80% {\n",
              "      border-color: transparent;\n",
              "      border-right-color: var(--fill-color);\n",
              "      border-bottom-color: var(--fill-color);\n",
              "    }\n",
              "    90% {\n",
              "      border-color: transparent;\n",
              "      border-bottom-color: var(--fill-color);\n",
              "    }\n",
              "  }\n",
              "</style>\n",
              "\n",
              "      <script>\n",
              "        async function quickchart(key) {\n",
              "          const quickchartButtonEl =\n",
              "            document.querySelector('#' + key + ' button');\n",
              "          quickchartButtonEl.disabled = true;  // To prevent multiple clicks.\n",
              "          quickchartButtonEl.classList.add('colab-df-spinner');\n",
              "          try {\n",
              "            const charts = await google.colab.kernel.invokeFunction(\n",
              "                'suggestCharts', [key], {});\n",
              "          } catch (error) {\n",
              "            console.error('Error during call to suggestCharts:', error);\n",
              "          }\n",
              "          quickchartButtonEl.classList.remove('colab-df-spinner');\n",
              "          quickchartButtonEl.classList.add('colab-df-quickchart-complete');\n",
              "        }\n",
              "        (() => {\n",
              "          let quickchartButtonEl =\n",
              "            document.querySelector('#df-85ed84f8-2df8-4f70-9c0e-1b60845b91b6 button');\n",
              "          quickchartButtonEl.style.display =\n",
              "            google.colab.kernel.accessAllowed ? 'block' : 'none';\n",
              "        })();\n",
              "      </script>\n",
              "    </div>\n",
              "\n",
              "    </div>\n",
              "  </div>\n"
            ],
            "application/vnd.google.colaboratory.intrinsic+json": {
              "type": "dataframe",
              "variable_name": "df",
              "summary": "{\n  \"name\": \"df\",\n  \"rows\": 100,\n  \"fields\": [\n    {\n      \"column\": \"day\",\n      \"properties\": {\n        \"dtype\": \"number\",\n        \"std\": 29,\n        \"min\": 1,\n        \"max\": 100,\n        \"num_unique_values\": 100,\n        \"samples\": [\n          84,\n          54,\n          71\n        ],\n        \"semantic_type\": \"\",\n        \"description\": \"\"\n      }\n    },\n    {\n      \"column\": \"parent_sleep\",\n      \"properties\": {\n        \"dtype\": \"number\",\n        \"std\": 1.0158844283269488,\n        \"min\": 4.84,\n        \"max\": 9.0,\n        \"num_unique_values\": 90,\n        \"samples\": [\n          7.47,\n          6.86,\n          6.22\n        ],\n        \"semantic_type\": \"\",\n        \"description\": \"\"\n      }\n    },\n    {\n      \"column\": \"baby_sleep\",\n      \"properties\": {\n        \"dtype\": \"number\",\n        \"std\": 2.0742318427248527,\n        \"min\": 3.25,\n        \"max\": 12.07,\n        \"num_unique_values\": 88,\n        \"samples\": [\n          9.09,\n          10.18,\n          7.95\n        ],\n        \"semantic_type\": \"\",\n        \"description\": \"\"\n      }\n    },\n    {\n      \"column\": \"parent_grumpy\",\n      \"properties\": {\n        \"dtype\": \"number\",\n        \"std\": 10,\n        \"min\": 41,\n        \"max\": 91,\n        \"num_unique_values\": 37,\n        \"samples\": [\n          59,\n          52,\n          67\n        ],\n        \"semantic_type\": \"\",\n        \"description\": \"\"\n      }\n    }\n  ]\n}"
            }
          },
          "metadata": {},
          "execution_count": 1
        }
      ],
      "source": [
        "import pandas as pd\n",
        "\n",
        "df = pd.read_csv('https://raw.githubusercontent.com/sgeinitz/CS3120/main/lab1_data_parenthood.csv')\n",
        "df.head()"
      ]
    },
    {
      "cell_type": "markdown",
      "metadata": {
        "id": "MRevPcxRBvMa"
      },
      "source": [
        "For this dataset one observation consists of the following fields or columns:\n",
        "\n",
        "* `day` - the day of the baby's life and the day that the observation was made  \n",
        "* `parent_sleep` - number of hours of sleep the parent had the night before this day\n",
        "* `baby_sleep` - number of hours of sleep the baby had the night before this day\n",
        "* `parent_grumpy` - level of grumpiness of the parent on this day (this will be our `Y`, or what we will want to try to predict)\n",
        "\n",
        "To confirm that information, or if we didnt' know it ahead of time, we could use the pandas dataframe method, `describe`, to see some descriptive statistics for each column."
      ]
    },
    {
      "cell_type": "code",
      "execution_count": 2,
      "metadata": {
        "colab": {
          "base_uri": "https://localhost:8080/",
          "height": 300
        },
        "id": "XFirHnQkBvMa",
        "outputId": "730cf2c2-0f89-4abe-9bfd-4c6ac59bfecc"
      },
      "outputs": [
        {
          "output_type": "execute_result",
          "data": {
            "text/plain": [
              "              day  parent_sleep  baby_sleep  parent_grumpy\n",
              "count  100.000000    100.000000  100.000000      100.00000\n",
              "mean    50.500000      6.965200    8.049200       63.71000\n",
              "std     29.011492      1.015884    2.074232       10.04967\n",
              "min      1.000000      4.840000    3.250000       41.00000\n",
              "25%     25.750000      6.292500    6.425000       57.00000\n",
              "50%     50.500000      7.030000    7.950000       62.00000\n",
              "75%     75.250000      7.740000    9.635000       71.00000\n",
              "max    100.000000      9.000000   12.070000       91.00000"
            ],
            "text/html": [
              "\n",
              "  <div id=\"df-e0e0f3b2-23ed-4049-a025-b7e1b4506dbf\" class=\"colab-df-container\">\n",
              "    <div>\n",
              "<style scoped>\n",
              "    .dataframe tbody tr th:only-of-type {\n",
              "        vertical-align: middle;\n",
              "    }\n",
              "\n",
              "    .dataframe tbody tr th {\n",
              "        vertical-align: top;\n",
              "    }\n",
              "\n",
              "    .dataframe thead th {\n",
              "        text-align: right;\n",
              "    }\n",
              "</style>\n",
              "<table border=\"1\" class=\"dataframe\">\n",
              "  <thead>\n",
              "    <tr style=\"text-align: right;\">\n",
              "      <th></th>\n",
              "      <th>day</th>\n",
              "      <th>parent_sleep</th>\n",
              "      <th>baby_sleep</th>\n",
              "      <th>parent_grumpy</th>\n",
              "    </tr>\n",
              "  </thead>\n",
              "  <tbody>\n",
              "    <tr>\n",
              "      <th>count</th>\n",
              "      <td>100.000000</td>\n",
              "      <td>100.000000</td>\n",
              "      <td>100.000000</td>\n",
              "      <td>100.00000</td>\n",
              "    </tr>\n",
              "    <tr>\n",
              "      <th>mean</th>\n",
              "      <td>50.500000</td>\n",
              "      <td>6.965200</td>\n",
              "      <td>8.049200</td>\n",
              "      <td>63.71000</td>\n",
              "    </tr>\n",
              "    <tr>\n",
              "      <th>std</th>\n",
              "      <td>29.011492</td>\n",
              "      <td>1.015884</td>\n",
              "      <td>2.074232</td>\n",
              "      <td>10.04967</td>\n",
              "    </tr>\n",
              "    <tr>\n",
              "      <th>min</th>\n",
              "      <td>1.000000</td>\n",
              "      <td>4.840000</td>\n",
              "      <td>3.250000</td>\n",
              "      <td>41.00000</td>\n",
              "    </tr>\n",
              "    <tr>\n",
              "      <th>25%</th>\n",
              "      <td>25.750000</td>\n",
              "      <td>6.292500</td>\n",
              "      <td>6.425000</td>\n",
              "      <td>57.00000</td>\n",
              "    </tr>\n",
              "    <tr>\n",
              "      <th>50%</th>\n",
              "      <td>50.500000</td>\n",
              "      <td>7.030000</td>\n",
              "      <td>7.950000</td>\n",
              "      <td>62.00000</td>\n",
              "    </tr>\n",
              "    <tr>\n",
              "      <th>75%</th>\n",
              "      <td>75.250000</td>\n",
              "      <td>7.740000</td>\n",
              "      <td>9.635000</td>\n",
              "      <td>71.00000</td>\n",
              "    </tr>\n",
              "    <tr>\n",
              "      <th>max</th>\n",
              "      <td>100.000000</td>\n",
              "      <td>9.000000</td>\n",
              "      <td>12.070000</td>\n",
              "      <td>91.00000</td>\n",
              "    </tr>\n",
              "  </tbody>\n",
              "</table>\n",
              "</div>\n",
              "    <div class=\"colab-df-buttons\">\n",
              "\n",
              "  <div class=\"colab-df-container\">\n",
              "    <button class=\"colab-df-convert\" onclick=\"convertToInteractive('df-e0e0f3b2-23ed-4049-a025-b7e1b4506dbf')\"\n",
              "            title=\"Convert this dataframe to an interactive table.\"\n",
              "            style=\"display:none;\">\n",
              "\n",
              "  <svg xmlns=\"http://www.w3.org/2000/svg\" height=\"24px\" viewBox=\"0 -960 960 960\">\n",
              "    <path d=\"M120-120v-720h720v720H120Zm60-500h600v-160H180v160Zm220 220h160v-160H400v160Zm0 220h160v-160H400v160ZM180-400h160v-160H180v160Zm440 0h160v-160H620v160ZM180-180h160v-160H180v160Zm440 0h160v-160H620v160Z\"/>\n",
              "  </svg>\n",
              "    </button>\n",
              "\n",
              "  <style>\n",
              "    .colab-df-container {\n",
              "      display:flex;\n",
              "      gap: 12px;\n",
              "    }\n",
              "\n",
              "    .colab-df-convert {\n",
              "      background-color: #E8F0FE;\n",
              "      border: none;\n",
              "      border-radius: 50%;\n",
              "      cursor: pointer;\n",
              "      display: none;\n",
              "      fill: #1967D2;\n",
              "      height: 32px;\n",
              "      padding: 0 0 0 0;\n",
              "      width: 32px;\n",
              "    }\n",
              "\n",
              "    .colab-df-convert:hover {\n",
              "      background-color: #E2EBFA;\n",
              "      box-shadow: 0px 1px 2px rgba(60, 64, 67, 0.3), 0px 1px 3px 1px rgba(60, 64, 67, 0.15);\n",
              "      fill: #174EA6;\n",
              "    }\n",
              "\n",
              "    .colab-df-buttons div {\n",
              "      margin-bottom: 4px;\n",
              "    }\n",
              "\n",
              "    [theme=dark] .colab-df-convert {\n",
              "      background-color: #3B4455;\n",
              "      fill: #D2E3FC;\n",
              "    }\n",
              "\n",
              "    [theme=dark] .colab-df-convert:hover {\n",
              "      background-color: #434B5C;\n",
              "      box-shadow: 0px 1px 3px 1px rgba(0, 0, 0, 0.15);\n",
              "      filter: drop-shadow(0px 1px 2px rgba(0, 0, 0, 0.3));\n",
              "      fill: #FFFFFF;\n",
              "    }\n",
              "  </style>\n",
              "\n",
              "    <script>\n",
              "      const buttonEl =\n",
              "        document.querySelector('#df-e0e0f3b2-23ed-4049-a025-b7e1b4506dbf button.colab-df-convert');\n",
              "      buttonEl.style.display =\n",
              "        google.colab.kernel.accessAllowed ? 'block' : 'none';\n",
              "\n",
              "      async function convertToInteractive(key) {\n",
              "        const element = document.querySelector('#df-e0e0f3b2-23ed-4049-a025-b7e1b4506dbf');\n",
              "        const dataTable =\n",
              "          await google.colab.kernel.invokeFunction('convertToInteractive',\n",
              "                                                    [key], {});\n",
              "        if (!dataTable) return;\n",
              "\n",
              "        const docLinkHtml = 'Like what you see? Visit the ' +\n",
              "          '<a target=\"_blank\" href=https://colab.research.google.com/notebooks/data_table.ipynb>data table notebook</a>'\n",
              "          + ' to learn more about interactive tables.';\n",
              "        element.innerHTML = '';\n",
              "        dataTable['output_type'] = 'display_data';\n",
              "        await google.colab.output.renderOutput(dataTable, element);\n",
              "        const docLink = document.createElement('div');\n",
              "        docLink.innerHTML = docLinkHtml;\n",
              "        element.appendChild(docLink);\n",
              "      }\n",
              "    </script>\n",
              "  </div>\n",
              "\n",
              "\n",
              "    <div id=\"df-22cd9090-f701-4d1f-b6f5-d313826b4b85\">\n",
              "      <button class=\"colab-df-quickchart\" onclick=\"quickchart('df-22cd9090-f701-4d1f-b6f5-d313826b4b85')\"\n",
              "                title=\"Suggest charts\"\n",
              "                style=\"display:none;\">\n",
              "\n",
              "<svg xmlns=\"http://www.w3.org/2000/svg\" height=\"24px\"viewBox=\"0 0 24 24\"\n",
              "     width=\"24px\">\n",
              "    <g>\n",
              "        <path d=\"M19 3H5c-1.1 0-2 .9-2 2v14c0 1.1.9 2 2 2h14c1.1 0 2-.9 2-2V5c0-1.1-.9-2-2-2zM9 17H7v-7h2v7zm4 0h-2V7h2v10zm4 0h-2v-4h2v4z\"/>\n",
              "    </g>\n",
              "</svg>\n",
              "      </button>\n",
              "\n",
              "<style>\n",
              "  .colab-df-quickchart {\n",
              "      --bg-color: #E8F0FE;\n",
              "      --fill-color: #1967D2;\n",
              "      --hover-bg-color: #E2EBFA;\n",
              "      --hover-fill-color: #174EA6;\n",
              "      --disabled-fill-color: #AAA;\n",
              "      --disabled-bg-color: #DDD;\n",
              "  }\n",
              "\n",
              "  [theme=dark] .colab-df-quickchart {\n",
              "      --bg-color: #3B4455;\n",
              "      --fill-color: #D2E3FC;\n",
              "      --hover-bg-color: #434B5C;\n",
              "      --hover-fill-color: #FFFFFF;\n",
              "      --disabled-bg-color: #3B4455;\n",
              "      --disabled-fill-color: #666;\n",
              "  }\n",
              "\n",
              "  .colab-df-quickchart {\n",
              "    background-color: var(--bg-color);\n",
              "    border: none;\n",
              "    border-radius: 50%;\n",
              "    cursor: pointer;\n",
              "    display: none;\n",
              "    fill: var(--fill-color);\n",
              "    height: 32px;\n",
              "    padding: 0;\n",
              "    width: 32px;\n",
              "  }\n",
              "\n",
              "  .colab-df-quickchart:hover {\n",
              "    background-color: var(--hover-bg-color);\n",
              "    box-shadow: 0 1px 2px rgba(60, 64, 67, 0.3), 0 1px 3px 1px rgba(60, 64, 67, 0.15);\n",
              "    fill: var(--button-hover-fill-color);\n",
              "  }\n",
              "\n",
              "  .colab-df-quickchart-complete:disabled,\n",
              "  .colab-df-quickchart-complete:disabled:hover {\n",
              "    background-color: var(--disabled-bg-color);\n",
              "    fill: var(--disabled-fill-color);\n",
              "    box-shadow: none;\n",
              "  }\n",
              "\n",
              "  .colab-df-spinner {\n",
              "    border: 2px solid var(--fill-color);\n",
              "    border-color: transparent;\n",
              "    border-bottom-color: var(--fill-color);\n",
              "    animation:\n",
              "      spin 1s steps(1) infinite;\n",
              "  }\n",
              "\n",
              "  @keyframes spin {\n",
              "    0% {\n",
              "      border-color: transparent;\n",
              "      border-bottom-color: var(--fill-color);\n",
              "      border-left-color: var(--fill-color);\n",
              "    }\n",
              "    20% {\n",
              "      border-color: transparent;\n",
              "      border-left-color: var(--fill-color);\n",
              "      border-top-color: var(--fill-color);\n",
              "    }\n",
              "    30% {\n",
              "      border-color: transparent;\n",
              "      border-left-color: var(--fill-color);\n",
              "      border-top-color: var(--fill-color);\n",
              "      border-right-color: var(--fill-color);\n",
              "    }\n",
              "    40% {\n",
              "      border-color: transparent;\n",
              "      border-right-color: var(--fill-color);\n",
              "      border-top-color: var(--fill-color);\n",
              "    }\n",
              "    60% {\n",
              "      border-color: transparent;\n",
              "      border-right-color: var(--fill-color);\n",
              "    }\n",
              "    80% {\n",
              "      border-color: transparent;\n",
              "      border-right-color: var(--fill-color);\n",
              "      border-bottom-color: var(--fill-color);\n",
              "    }\n",
              "    90% {\n",
              "      border-color: transparent;\n",
              "      border-bottom-color: var(--fill-color);\n",
              "    }\n",
              "  }\n",
              "</style>\n",
              "\n",
              "      <script>\n",
              "        async function quickchart(key) {\n",
              "          const quickchartButtonEl =\n",
              "            document.querySelector('#' + key + ' button');\n",
              "          quickchartButtonEl.disabled = true;  // To prevent multiple clicks.\n",
              "          quickchartButtonEl.classList.add('colab-df-spinner');\n",
              "          try {\n",
              "            const charts = await google.colab.kernel.invokeFunction(\n",
              "                'suggestCharts', [key], {});\n",
              "          } catch (error) {\n",
              "            console.error('Error during call to suggestCharts:', error);\n",
              "          }\n",
              "          quickchartButtonEl.classList.remove('colab-df-spinner');\n",
              "          quickchartButtonEl.classList.add('colab-df-quickchart-complete');\n",
              "        }\n",
              "        (() => {\n",
              "          let quickchartButtonEl =\n",
              "            document.querySelector('#df-22cd9090-f701-4d1f-b6f5-d313826b4b85 button');\n",
              "          quickchartButtonEl.style.display =\n",
              "            google.colab.kernel.accessAllowed ? 'block' : 'none';\n",
              "        })();\n",
              "      </script>\n",
              "    </div>\n",
              "\n",
              "    </div>\n",
              "  </div>\n"
            ],
            "application/vnd.google.colaboratory.intrinsic+json": {
              "type": "dataframe",
              "summary": "{\n  \"name\": \"df\",\n  \"rows\": 8,\n  \"fields\": [\n    {\n      \"column\": \"day\",\n      \"properties\": {\n        \"dtype\": \"number\",\n        \"std\": 35.736237144555226,\n        \"min\": 1.0,\n        \"max\": 100.0,\n        \"num_unique_values\": 6,\n        \"samples\": [\n          100.0,\n          50.5,\n          75.25\n        ],\n        \"semantic_type\": \"\",\n        \"description\": \"\"\n      }\n    },\n    {\n      \"column\": \"parent_sleep\",\n      \"properties\": {\n        \"dtype\": \"number\",\n        \"std\": 33.275754474812146,\n        \"min\": 1.0158844283269488,\n        \"max\": 100.0,\n        \"num_unique_values\": 8,\n        \"samples\": [\n          6.965199999999999,\n          7.03,\n          100.0\n        ],\n        \"semantic_type\": \"\",\n        \"description\": \"\"\n      }\n    },\n    {\n      \"column\": \"baby_sleep\",\n      \"properties\": {\n        \"dtype\": \"number\",\n        \"std\": 33.01647807682308,\n        \"min\": 2.0742318427248527,\n        \"max\": 100.0,\n        \"num_unique_values\": 8,\n        \"samples\": [\n          8.049199999999999,\n          7.95,\n          100.0\n        ],\n        \"semantic_type\": \"\",\n        \"description\": \"\"\n      }\n    },\n    {\n      \"column\": \"parent_grumpy\",\n      \"properties\": {\n        \"dtype\": \"number\",\n        \"std\": 28.116476387973886,\n        \"min\": 10.049669575954157,\n        \"max\": 100.0,\n        \"num_unique_values\": 8,\n        \"samples\": [\n          63.71,\n          62.0,\n          100.0\n        ],\n        \"semantic_type\": \"\",\n        \"description\": \"\"\n      }\n    }\n  ]\n}"
            }
          },
          "metadata": {},
          "execution_count": 2
        }
      ],
      "source": [
        "df.describe()"
      ]
    },
    {
      "cell_type": "markdown",
      "metadata": {
        "id": "gYczzLtuBvMa"
      },
      "source": [
        "***\n",
        "### Q1: What does the column `parent_grumpy` look like? What is it's mean? What is it's minimum value? Maximum value? Based on all of that, what do you think the scale of grumpiness is? Is it between 1 and 10? Between -1 and 1?\n",
        "\n",
        "\\<input your answer here\\>\n",
        "\n",
        "Parent_grumpy has a mean of 63.71. Max value of 91. I think the severity of grumpiness is being measured from 1-100 with 1 being a low level and 100 being the highest.\n",
        "***"
      ]
    },
    {
      "cell_type": "markdown",
      "metadata": {
        "id": "ru7GOECeBvMa"
      },
      "source": [
        "Next, let's look at if or how the columns are related to one another. There are descriptive statistics that we can calculate to do this but typically it's best to simply look at the data and see what it looks like.\n",
        "\n",
        "We'll use the Python module [seaborn](https://seaborn.pydata.org), which is for plotting and visualizing data."
      ]
    },
    {
      "cell_type": "code",
      "execution_count": 3,
      "metadata": {
        "colab": {
          "base_uri": "https://localhost:8080/",
          "height": 466
        },
        "id": "SapCVO6_BvMb",
        "outputId": "9d0a3d99-5628-4858-fe61-84d3d7d87492"
      },
      "outputs": [
        {
          "output_type": "execute_result",
          "data": {
            "text/plain": [
              "<Axes: xlabel='day', ylabel='parent_grumpy'>"
            ]
          },
          "metadata": {},
          "execution_count": 3
        },
        {
          "output_type": "display_data",
          "data": {
            "text/plain": [
              "<Figure size 640x480 with 1 Axes>"
            ],
            "image/png": "[encoded data removed]"
          },
          "metadata": {}
        }
      ],
      "source": [
        "import seaborn as sns\n",
        "\n",
        "sns.scatterplot(data=df, x='day', y='parent_grumpy')"
      ]
    },
    {
      "cell_type": "markdown",
      "metadata": {
        "id": "GnzNGEktBvMb"
      },
      "source": [
        "***\n",
        "### Q2: Does there appear to be a relationship of any kind between day and how grumpy the parent is? In other words, does a parent's level of grumpiness get better or worse in the first 100 days of baby's life? Is there any type of pattern in how these two variables are related?\n",
        "\n",
        "\\<input your answer here - note that you should justify your answer by describing what you see in the scatter plot above\\>\n",
        "\n",
        "It appears that there is a slight upwards trend in the data which would indicate that the parent gets a bit grumpier in this time period, but it's not a strong trend.  There is barely any pattern with high and low levels of grumpiness being reported throughout the 100 days.\n",
        "***"
      ]
    },
    {
      "cell_type": "markdown",
      "metadata": {
        "id": "_TaeIqL9BvMb"
      },
      "source": [
        "Next, let's look at the other fields versus a parent's level of grumpiness. Note that we'll now use the other common Python module for plotting and visualization, matplotlib. This module is lower-level than seaborn which allows us to create multiple plots side by side, and manipulate other small details of plots."
      ]
    },
    {
      "cell_type": "code",
      "execution_count": 4,
      "metadata": {
        "colab": {
          "base_uri": "https://localhost:8080/",
          "height": 388
        },
        "id": "nUx-rgs3BvMc",
        "outputId": "100946ac-2f9f-4cc3-8b3b-e9a7017b5c3a"
      },
      "outputs": [
        {
          "output_type": "display_data",
          "data": {
            "text/plain": [
              "<Figure size 1000x400 with 2 Axes>"
            ],
            "image/png": "[encoded data removed]"
          },
          "metadata": {}
        }
      ],
      "source": [
        "import matplotlib.pyplot as plt\n",
        "\n",
        "#fig, (ax1, ax2, ax3) = plt.subplots(1, 3, figsize=(12, 4))\n",
        "fig, (ax1, ax2) = plt.subplots(1, 2, figsize=(10, 4))\n",
        "sns.scatterplot(data=df, x='baby_sleep', y='parent_grumpy', ax=ax1)\n",
        "sns.scatterplot(data=df, x='parent_sleep', y='parent_grumpy', ax=ax2, color='red')\n",
        "#sns.scatterplot(data=df, x='baby_sleep', y='parent_sleep', ax=ax3, color='red')\n",
        "plt.show()"
      ]
    },
    {
      "cell_type": "markdown",
      "metadata": {
        "id": "rHO-Ic12BvMc"
      },
      "source": [
        "***\n",
        "### Q3: What is the relationship that seems more important here? In other words, which do you think is a more direct cause of a parent being grumpy?\n",
        "\n",
        "\\<input your answer here - note that you should justify your answer by describing and comparing what you see in the plots above\\>\n",
        "\n",
        "There is a strong relation between the amount of sleep a parent gets and their grumpiness level. With the lesser hours slept, around 5 hours of sleep, reporting back at nearly the highest level of grouchiness possible.\n",
        "***"
      ]
    },
    {
      "cell_type": "markdown",
      "metadata": {
        "id": "JVoDJ131BvMc"
      },
      "source": [
        "## Simple Linear Regression\n",
        "\n",
        "There is a lot more that could be discussed about which variable drives what, in what order, etc. For now though, let's go ahead and begin fitting a linear regression. As we've seen, simple linear regression is an approach for predicting a **quantitative response** using a **single feature** (or \"predictor\" or \"input variable\"). It takes the following form:\n",
        "\n",
        "$y = \\beta_0 + \\beta_1x \\quad $ or $ \\quad y = b + w x$\n",
        "\n",
        "What does each term represent?\n",
        "- $y$ is the response\n",
        "- $x$ is the feature\n",
        "- $\\beta_0$ is the y-intercept of the line, which we could also call the **bias** parameter, $b$\n",
        "- $\\beta_1$ is the slope of the line or coefficient for x, which we could also call the **weight** parameter, $w$\n",
        "\n",
        "Together, $\\beta_0$ and $\\beta_1$, or $b$ and $w$ are called the **model coefficients**, or **parameters** of the model. To train or fit the model it must \"learn\" the values of these parameters. Once we've learned these coefficients, we can use the model to make predictions!"
      ]
    },
    {
      "cell_type": "markdown",
      "metadata": {
        "id": "0g53NaMdBvMc"
      },
      "source": [
        "What do you mean by \"learn\"?  Well you are probably more familiar with the phrase \"fit\" meaning we adjust the settings of the model coefficients (aka as parameters) until the line seems like a good summary of the data.  Fitting thus mean adjusting some internal numbers so that the better reflect the underlying data set.  Well when a human (or machine) learns it, it is in some sense of the same thing.  We change the connections of the weights (or parameters) inside our brains to help us better predict our environment.  For instance if your roommate is prone to late night partying and being grumpy the next day you might mentally fit a model to the experiences you have and \"learn\" what features are predictive of them being grumpy.  So basically fitting a linear regression model is the same as doing basic machine learning! Wow!\n",
        "\n",
        "Before we get into using the computer to \"fit\" our data, let's start simple and do things by hand. Try adjusting the sliders below to get to what you think is a good model fit. As mentioned in class, getting roughly half of the points above the line and half below the line is ideally what we want."
      ]
    },
    {
      "cell_type": "code",
      "execution_count": 5,
      "metadata": {
        "colab": {
          "base_uri": "https://localhost:8080/",
          "height": 606,
          "referenced_widgets": [
            "742dcd8ede8744ea917435b626a683e9",
            "a8dc5af8979942b3840d53a6d0f1884a",
            "e7e81a9eb091495eafe49c99b6b15689",
            "6c7428e7209146fabe91a02e5467e46b",
            "07ea356c1fed4e0b8a284aee30a159b0",
            "f43254ae62904a569aed6b506979f461",
            "33dac704fe0d4734a8bbc70cc4950a02",
            "3e98399030604f63bcbe2c455818900f",
            "ceb98116ae8f433e85807bb526d34ae0",
            "83dd4e893f7e402fb43bb71fafc35f56"
          ]
        },
        "id": "6awf2amYBvMc",
        "outputId": "f9a674fe-62af-4f19-8831-40d29e8b8ccb"
      },
      "outputs": [
        {
          "output_type": "display_data",
          "data": {
            "text/plain": [
              "interactive(children=(IntSlider(value=0, description='slope', max=20, min=-20), IntSlider(value=50, descriptio…"
            ],
            "application/vnd.jupyter.widget-view+json": {
              "version_major": 2,
              "version_minor": 0,
              "model_id": "742dcd8ede8744ea917435b626a683e9"
            }
          },
          "metadata": {}
        }
      ],
      "source": [
        "from IPython.core.display import HTML, Markdown\n",
        "import ipywidgets as widgets\n",
        "import numpy as np\n",
        "\n",
        "@widgets.interact(slope=widgets.IntSlider(min=-20, max=20, step=1, value=0), intercept=widgets.IntSlider(min=0, max=200, step=1, value=50))\n",
        "def plot_grumpiness(slope, intercept):\n",
        "    predict = intercept + slope * df.parent_sleep\n",
        "    resid = df.parent_grumpy - predict\n",
        "    fig, ax = plt.subplots(figsize=(9,6))\n",
        "\n",
        "    x1 = np.linspace(df.parent_sleep.min(), df.parent_sleep.max(), 400)\n",
        "    y1 = intercept + slope * x1\n",
        "\n",
        "    ax.plot(df.parent_sleep, df.parent_grumpy, 'ko', markersize=4)\n",
        "\n",
        "    ax.plot(x1, y1, '-', color='steelblue', linewidth=1)\n",
        "    plt.xlabel(\"dad sleep\")\n",
        "    plt.ylabel(\"dad grumpy level\")\n",
        "\n",
        "    plt.show()\n"
      ]
    },
    {
      "cell_type": "markdown",
      "metadata": {
        "id": "CcKAhoFuBvMc"
      },
      "source": [
        "If you used the approach of getting half of the points above the line and half below the line, you probably realized that there are several different ways to acheive this - not all of which make sense. That's why we instead think about fitting a regression model as minimizing all **residuals**. A residual is defined as the difference between the the observation $y$ and the prediction $\\hat{y}$.\n",
        "\n",
        "Specifically, the **residual for the $i^{th}$ observation** in the data is defined as:\n",
        "* $y_i - \\hat{y}_i$\n",
        "\n",
        "The next plot shows what are known as the **residuals** between the actual data points (black) and the regression line (blue). As you can see the total amount of red changes depending on how good of a fit your parameter values give you. Use this widget to make your own *guesstimate* of what the values of $\\beta_0$ and $\\beta_1$ should be.\n"
      ]
    },
    {
      "cell_type": "code",
      "execution_count": 7,
      "metadata": {
        "colab": {
          "base_uri": "https://localhost:8080/",
          "height": 606,
          "referenced_widgets": [
            "7c8acb0e70234276b7770bf475dfdb80",
            "6ac93c89284044a0af8442cd988baa13",
            "a65dadbb6587405da6e114609c986366",
            "0ac12b63451e44189eb2a46dffd1125d",
            "c26ca06bb1cd40279f4cf95f618757a4",
            "f409b88f6c604611b6e635c1a91b5054",
            "ffe3c1cdc18544b6a1433df44969c49f",
            "1b4b434368f34015b744134b46cf8666",
            "8d18e339e1154b51a613e4456d21d879",
            "cc44dbf13028431890f188c979ecef7e"
          ]
        },
        "id": "reui2qhtBvMc",
        "outputId": "8f80e0c4-deac-4433-a2e8-4fc5d978f63f"
      },
      "outputs": [
        {
          "output_type": "display_data",
          "data": {
            "text/plain": [
              "interactive(children=(IntSlider(value=0, description='slope', max=20, min=-20), IntSlider(value=50, descriptio…"
            ],
            "application/vnd.jupyter.widget-view+json": {
              "version_major": 2,
              "version_minor": 0,
              "model_id": "7c8acb0e70234276b7770bf475dfdb80"
            }
          },
          "metadata": {}
        }
      ],
      "source": [
        "@widgets.interact(slope=widgets.IntSlider(min=-20, max=20, step=1, value=0), intercept=widgets.IntSlider(min=0, max=200, step=1, value=50))\n",
        "def plot_grumpiness(slope, intercept):\n",
        "    predict = intercept+slope*df.parent_sleep\n",
        "    resid = df.parent_grumpy-predict\n",
        "    fig, ax = plt.subplots(figsize=(9,6))\n",
        "\n",
        "    x1 = np.linspace(df.parent_sleep.min(), df.parent_sleep.max(),400)\n",
        "    y1 = intercept+slope*x1\n",
        "\n",
        "    ax.plot(df.parent_sleep, df.parent_grumpy,'ko',markersize=4)\n",
        "    ax.plot(df.parent_sleep, df.parent_grumpy-resid,'o',markersize=4,markeredgecolor='r', markeredgewidth=.4, markerfacecolor='white')\n",
        "\n",
        "    ax.plot(x1,y1,'-',color='blue',linewidth=1)\n",
        "    plt.xlabel(\"dad sleep\")\n",
        "    plt.ylabel(\"dad grumpiness\")\n",
        "\n",
        "    ax.vlines(df.parent_sleep, df.parent_grumpy, df.parent_grumpy-resid,'r',linewidth=0.5)\n",
        "    plt.show()\n",
        "\n"
      ]
    },
    {
      "cell_type": "markdown",
      "metadata": {
        "id": "oJ5Ly8xuBvMd"
      },
      "source": [
        "***\n",
        "### Q4: What values of $\\beta_0$ and $\\beta_1$ result in a good model fit? Is the slope positive or negative? Explain why?\n",
        "\n",
        "\\<input your answer here\\>\n",
        "\n",
        "B_0 = 126\n",
        "B_1 = -9\n",
        "\n",
        "The slope is negative because as the hours of sleep increase the level of reported grumpiness decreases.\n",
        "\n",
        "***"
      ]
    },
    {
      "cell_type": "markdown",
      "metadata": {
        "id": "9kjRELbxBvMd"
      },
      "source": [
        "## Estimating Model Coefficients (i.e. \"training\" the model)\n",
        "\n",
        "The mechanics of fitting a line to some data, or \"learning\" the model parameter values, or \"training\" the model is better done using a precise method rather than eyeballing it as you did above. Generally speaking, coefficients are estimated using the **least squares criterion**, which means we will find the line (mathematically) which minimizes the **sum of squared residuals** (or \"sum of squared errors\"). This can be summed up in the following graphic.\n",
        "\n",
        "![toyexample](https://cims.nyu.edu/~brenden/courses/labincp/_images/08_estimating_coefficients.png)\n",
        "\n",
        "In the figure above...\n",
        "- the black dots are the **observed values** of x and y,\n",
        "- the blue line is the **least squares line**,\n",
        "- the red lines are the **residuals**, which are the distances between the observed values and the least squares line.\n",
        "\n",
        "Remember, model parameters in the regression model can be interpreted as follows.\n",
        "- $\\beta_0$ is the **intercept** (the value of $y$ when $x$=0)\n",
        "- $\\beta_1$ is the **slope** (the change in $y$ divided by change in $x$)\n",
        "\n",
        "Here is a graphical depiction of those calculations:\n",
        "\n",
        "![toyexample2](https://cims.nyu.edu/~brenden/courses/labincp/_images/08_slope_intercept.png)\n"
      ]
    },
    {
      "cell_type": "markdown",
      "metadata": {
        "id": "Xz3eKPcqBvMd"
      },
      "source": [
        "To find the best possible parameter values (i.e. to fit or train the model), we want to minimize the sum of squared errors. Note that since $\\hat{y}$ is a function of $\\beta_0$ and $\\beta_1$, then the sum of squared errors can be stated as a function of them (and then minimized). Namely, we want to minimize the following expression with respect to $\\beta_0$ and $\\beta_1$.\n",
        "\n",
        "* $\\sum_{i=1}^{n} (y_i - (\\beta_0 + \\beta_1 x_i))^2$\n",
        "\n",
        "We could manually calculate the values by minimizing the above, but let's first use the [statmodels](https://www.statsmodels.org/stable/install.html) Python package. See how these numbers compare to the values you found in your *guesstimate* above."
      ]
    },
    {
      "cell_type": "code",
      "execution_count": 8,
      "metadata": {
        "colab": {
          "base_uri": "https://localhost:8080/"
        },
        "id": "MYJ3VBu9BvMd",
        "outputId": "9b93bd5c-a25e-4895-c198-fbd02ff34d9f"
      },
      "outputs": [
        {
          "output_type": "stream",
          "name": "stdout",
          "text": [
            "Intercept       125.956292\n",
            "parent_sleep     -8.936756\n",
            "dtype: float64\n"
          ]
        }
      ],
      "source": [
        "import statsmodels.formula.api as smf\n",
        "\n",
        "sm_lm = smf.ols(formula='parent_grumpy ~ parent_sleep', data=df).fit()\n",
        "print(sm_lm.params)"
      ]
    },
    {
      "cell_type": "markdown",
      "metadata": {
        "id": "-e8cbNWmBvMd"
      },
      "source": [
        "A couple of points on how we used `smf` here...\n",
        "* First is that we use the `smf.ols()` function which does an _ordinary least squares_ fit.  This is the type of fit which tries to minimize the sum of the squared residuals.  There are other types of fitting proceedures such as weighted least squares which is used when you expect the variance of the predicted variable to changes with the input predictor as well as its mean value.  We won't worry about those variations of linear regression in this class though.\n",
        "\n",
        "* Second is that we provide the `ols()` function or method with the pandas dataframe we are working with, `df`, and then provide a formula.  The formula expresses our \"_model_\" and is which variables in the data frame we are trying to relate.  Here the formula `parent_grumpy ~ parent_sleep` means that we want to predict `parent_grumpy` values given `parent_sleep` values. So you think of `parent_grumpy` as our \"_y value_\" and `parent_sleep` are our \"_x value_\".\n",
        "\n",
        "\n",
        "Although the **statsmodels** Python module is a powerful and intuitive tool for statistics, and similar to the standard libraries in R, the module that is more common among Data Scientists and Machine Learning practioners is [scikitlearn](https://scikit-learn.org/stable/). We'll use this now. Try to make a note of how the syntax is different between statsmodels and scikitlearn."
      ]
    },
    {
      "cell_type": "code",
      "execution_count": null,
      "metadata": {
        "id": "TYCjo9SUBvMd"
      },
      "outputs": [],
      "source": [
        "from sklearn import linear_model\n",
        "\n",
        "lm = linear_model.LinearRegression()\n",
        "lm.fit(df[['parent_sleep']], df['parent_grumpy'])\n",
        "print(lm.coef_, lm.intercept_)"
      ]
    },
    {
      "cell_type": "markdown",
      "metadata": {
        "id": "U1HSyl73BvMd"
      },
      "source": [
        "It's easy to see that the values of the parameters for both models are the same, but notice the small diffences in the names of usage of them. The **statsmodel** model gives us all of the parameters in attribute `lm.params`.\n",
        "\n",
        "With `scikitlearn`, or `sklearn` above, the model has different attributes for each parameter, `lm.coef_`, `lm.intercept`. Note that `lm.coef` itself is a list though, so if our model was going to have other predictors, i.e. other X variables or inputs, then they would be added to the list, `lm.coef`."
      ]
    },
    {
      "cell_type": "markdown",
      "metadata": {
        "id": "i9rbJ-EcBvMd"
      },
      "source": [
        "## Interpreting the Model\n",
        "\n",
        "One of the biggest advantages of ordinary least squares regression is that it is highly interpretable. By this, we mean to say that it's possible to look at the model parameter values and directly draw some conclusion or interpretion from it.\n",
        "\n",
        "That is, we can directly interpret the `slope` or `weight` parameter associated with `parent_sleep`, according to its value. In this case, with a value of `-8.9`, we can say:\n",
        "\n",
        "- A one \"unit\" increase in hours of sleep is associated with a -8.9367 \"unit\" decrease (because it is negative) in grumpiness. This should kind of make sense once you think about it too, i.e. more sleep = less grumpy!\n",
        "\n",
        "The other parameter in our model, the `intercept` or `bias` term, tells us what the model would predict if `X`, or `parent_sleep` in this case, were zero (0). (You can sort understand why it is referred to a bias term also, since it's the value you would get if you didn't have any information, so it's sort of a presupposed value, or bias.)\n",
        "If `parent_sleep` is zero, then `pare\n",
        "nt_grumpy` would be predicted to be 125.95. This means that if a parent gets no sleep at all their grumpiness will be at a very high level of 125.95!  Bad news."
      ]
    },
    {
      "cell_type": "markdown",
      "metadata": {
        "id": "roKBSMJ-BvMe"
      },
      "source": [
        "***\n",
        "### Q5: Suppose that the _grumpiness_ scale is between 0 and 100. How would you explain or justify the prediction the model would make if a parent did not sleep at all the night before? Or, if they slept only one hour? What does this say about the model, is it a \"good\" or \"bad\" model?\n",
        "\n",
        "\\<input your answer here - and explain \\>\n",
        "\n",
        "***\n",
        "\n",
        "Note that this question is related to a famous saying in Statistics, which is \"*All models are wrong, but some are useful*\". This essentially says that every model has limitations, or is incorrect in some way, but can still make sense and yield useful results when used in the appropriate setting.\n",
        "\n",
        "![image](https://miro.medium.com/v2/resize:fit:1400/1*EJZZKiXLcbp_MxRW9HJrmA.jpeg)"
      ]
    },
    {
      "cell_type": "markdown",
      "metadata": {
        "id": "KrFhsk4sBvMe"
      },
      "source": [
        "## Using the Model for Prediction\n",
        "\n",
        "Once the model has been fit or trained with the training data, we can now use it for predictions. In other words, with just the following equation it is possible to make a prediction for any new value of `x`, i.e. `parent_sleep`.\n",
        "$$y = 125.956292 + -8.936756 \\times x$$"
      ]
    },
    {
      "cell_type": "markdown",
      "metadata": {
        "id": "oOw5QH0YBvMe"
      },
      "source": [
        "***\n",
        "\n",
        "### Q5: Using only the trained model the parent now wants to make a prediction for tomorrow. Everything is going smooth so they antipicate getting a good night of sleep, or around `8.5` hours of sleep. What will their predicted level of grumpiness be tomorrow?\n",
        "\n",
        "\\<modify the following code cell to find your answer then input your answer here\\>\n",
        "\n",
        "***"
      ]
    },
    {
      "cell_type": "code",
      "execution_count": null,
      "metadata": {
        "id": "Rnf0WdOlBvMe"
      },
      "outputs": [],
      "source": [
        "hours_of_sleep =\n",
        "X_new = pd.DataFrame({'parent_sleep': [hours_of_sleep]})\n",
        "lm.predict(X_new)"
      ]
    },
    {
      "cell_type": "markdown",
      "metadata": {
        "id": "Mem_ktQEBvMe"
      },
      "source": [
        "## Plotting the least squares regression line\n",
        "\n",
        "Let's take a look at the best fit line.  There are two very easy ways to do this.  One is using seaborn's regplot which takes care of all of the underlying steps to plot the regression line."
      ]
    },
    {
      "cell_type": "code",
      "execution_count": null,
      "metadata": {
        "id": "GjS26I8gBvMe"
      },
      "outputs": [],
      "source": [
        "sns.regplot(x='parent_sleep', y='parent_grumpy', data=df)"
      ]
    },
    {
      "cell_type": "markdown",
      "metadata": {
        "id": "7rCtEtLvBvMf"
      },
      "source": [
        "Alternatively, if we want more control over the plot, or want to make other modifications, then using matplotlib is often going to be preferred."
      ]
    },
    {
      "cell_type": "code",
      "execution_count": null,
      "metadata": {
        "id": "yKb4VJnDBvMf"
      },
      "outputs": [],
      "source": [
        "fig, ax = plt.subplots(figsize=(6.5,4))\n",
        "\n",
        "# create a DataFrame with the minimum and maximum values of sleep\n",
        "x1 = pd.DataFrame({'parent_sleep': [df.parent_sleep.min(), df.parent_sleep.max()]})\n",
        "y1 = lm.predict(x1)  # predict for the two data points using the fitted model in lm\n",
        "ax.plot(df.parent_sleep, df.parent_grumpy, 'ko', markersize=4)\n",
        "ax.plot(x1, y1, '-', color='steelblue', linewidth=1)\n",
        "plt.xlabel(\"parent_sleep\")\n",
        "plt.ylabel(\"parent_grumpy\")\n",
        "plt.show()"
      ]
    },
    {
      "cell_type": "markdown",
      "metadata": {
        "id": "uUkAy8fIBvMf"
      },
      "source": [
        "## Confidence in our Model\n",
        "\n",
        "As mentioned before, the **statsmodels** library offers some convience for more traditional statistics questions or tasks. One of those is getting an idea of how confident we are about the estimated values of the parameters. Looking at the confidence intervals for the parameter value estimates gives us a decent idea of whether the model fits this data reasonably well. Below we look at the 95% confidence interval, or the $(1-\\alpha)$% confidence interval.\n",
        "\n",
        "As you can see, although there is a range of possible values, the range is reasonably small, telling us that there is a high level of confidence these parameter values estimates are yielding a model that fits the data reasonably well. We have to be careful not to misinterpret this though, remember that the precise intrepretation of the confidence interval is...\n",
        "\n",
        "* If the population from which this sample was drawn was **sampled 100 times**, approximately **95 of those confidence intervals** would contain the \"true\" coefficient."
      ]
    },
    {
      "cell_type": "code",
      "execution_count": null,
      "metadata": {
        "id": "DutwbgHGBvMf"
      },
      "outputs": [],
      "source": [
        "# print the confidence intervals for the model coefficients\n",
        "sm_lm.conf_int(alpha=0.05)"
      ]
    },
    {
      "cell_type": "markdown",
      "metadata": {
        "id": "lZ0KO3PyBvMf"
      },
      "source": [
        "Since the **sklearn** package tends to take more of a machine learning approach it does not have some of the same functionality as statsmodels. However, with a few more steps, it is possible to calculate. It's possible though, and you should verify that the confidence intervals are the same as above."
      ]
    },
    {
      "cell_type": "code",
      "execution_count": null,
      "metadata": {
        "id": "fMHcn_8pBvMf"
      },
      "outputs": [],
      "source": [
        "# needs the stats module for getting appropriate t-values\n",
        "from scipy import stats\n",
        "\n",
        "def get_conf_int(alpha, lr, X, y):\n",
        "    coefs = np.r_[[lr.intercept_], lr.coef_]\n",
        "    X_aux = X.copy()\n",
        "    X_aux.insert(0, 'const', 1)\n",
        "    dof = -np.diff(X_aux.shape)[0]\n",
        "    mse = np.sum((y - lr.predict(X)) ** 2) / dof\n",
        "    var_params = np.diag(np.linalg.inv(X_aux.T.dot(X_aux)))\n",
        "    t_val = stats.t.isf(alpha/2, dof)\n",
        "    gap = t_val * np.sqrt(mse * var_params)\n",
        "\n",
        "    return pd.DataFrame({\n",
        "        'lower': coefs - gap, 'upper': coefs + gap\n",
        "    }, index=X_aux.columns)\n",
        "\n",
        "get_conf_int(0.05, lm, df[['parent_sleep']], df['parent_grumpy'])"
      ]
    },
    {
      "cell_type": "code",
      "execution_count": null,
      "metadata": {
        "id": "VfAlXKxPBvMx"
      },
      "outputs": [],
      "source": [
        "np.diff(df.shape)"
      ]
    },
    {
      "cell_type": "markdown",
      "metadata": {
        "id": "uUDX89KGBvMx"
      },
      "source": [
        "Again, remember that we only have a **single sample of data**, and not the **entire population of data**. The \"true\" coefficient is either within this interval or it isn't, but there's no way to actually know. We estimate the coefficient with the data we do have, and we show uncertainty about that estimate by giving a range that the coefficient is **probably** within.\n",
        "\n",
        "Also note that using 95% confidence intervals is just a convention. We could create 90% confidence intervals (which will be more narrow), or 99% confidence intervals (which will be wider), or whatever intervals we think make the most sense for our analysis/task."
      ]
    },
    {
      "cell_type": "markdown",
      "metadata": {
        "id": "o629Jr96BvMx"
      },
      "source": [
        "## Hypothesis Testing and p-values\n",
        "\n",
        "Closely related to confidence intervals is **hypothesis testing**. Generally speaking, we start with a **null hypothesis** and an **alternative hypothesis** (that is opposite the null). Then, we check whether the data supports **rejecting the null hypothesis** or **failing to reject the null hypothesis**.\n",
        "\n",
        "(Note that \"failing to reject\" the null is not the same as \"accepting\" the null hypothesis. The alternative hypothesis may indeed be true, except that we just don't have enough data to show that.)\n",
        "\n",
        "As it relates to model coefficients, here is the conventional hypothesis test:\n",
        "- **null hypothesis:** There is no relationship between dad sleep and grumpiness (and thus $\\beta_1$ equals zero)\n",
        "- **alternative hypothesis:** There is a relationship between dad sleep and dad grumpinss (and thus $\\beta_1$ is not equal to zero)"
      ]
    },
    {
      "cell_type": "code",
      "execution_count": null,
      "metadata": {
        "id": "zvoJ0mpEBvMx"
      },
      "outputs": [],
      "source": [
        "# print the p-values for the model coefficients\n",
        "sm_lm.pvalues"
      ]
    },
    {
      "cell_type": "markdown",
      "metadata": {
        "id": "LdgQUFUNBvMx"
      },
      "source": [
        "How do we test this hypothesis? Intuitively, we reject the null (and thus believe the alternative) if the 95% confidence interval **does not include zero**. That is generally much easier to intrepret than the p-value, which strictly speaking should be interpreted as follows:\n",
        "* If the null hypothesis is true, then the p-value is probability of observing the data that we did (and thus getting the model parameters that we did).\n",
        "\n",
        "In this case, since the the p-values are both so small, we can likely safely reject the null hypothesis in favor of the alternative.\n",
        "\n",
        "Note that we generally ignore the p-value for the intercept. So, focusing only on the model parameter associated with `parent_sleep`, and seeing a p-value far less than 0.05, we can conclude that there is a relationship between sleep and grumpiness."
      ]
    },
    {
      "cell_type": "markdown",
      "metadata": {
        "id": "VJwKifabBvMx"
      },
      "source": [
        "## How Well Does the Model Fit the data?\n",
        "\n",
        "The most common way to evaluate the overall fit of a linear model is by the **R-squared** value. R-squared is calculated in such a way that it has the direct intrepretation of being the **proportion of variance explained**, meaning the proportion of variance in the observed data that is explained by the model, or the reduction in error over the **null model**. (The null model just predicts the mean of the observed response, and thus it has an intercept and no slope.)\n",
        "\n",
        "R-squared is between 0 and 1, and higher is better because it means that more variance is explained by the model. Here's an example of what R-squared might be for different models fit to the same dataset (but a different data than our parenthood data).\n",
        "\n",
        "![polyfits](https://github.com/sgeinitz/CS3120/blob/main/images/poly_fits.png?raw=true)\n",
        "\n",
        "You can see that the **blue line** explains some of the variance in the data (R-squared=0.54), the **green line** explains more of the variance (R-squared=0.64), and the **red line** fits the training data even further (R-squared=0.66). (No need to think about this too hard right now, but which of those possible"
      ]
    },
    {
      "cell_type": "markdown",
      "metadata": {
        "id": "na2MkjvrBvMy"
      },
      "source": [
        "Getting back to our parenthood datset, let's now calculate the R-squared value for our simple linear model."
      ]
    },
    {
      "cell_type": "code",
      "execution_count": null,
      "metadata": {
        "id": "NdKXQzL5BvMy"
      },
      "outputs": [],
      "source": [
        "sm_lm.rsquared"
      ]
    },
    {
      "cell_type": "markdown",
      "metadata": {
        "id": "uh5s-dJ7BvMy"
      },
      "source": [
        "It's difficult to say what \"_good_\" R-squared value is. The threshold for a good R-squared value will depend widely on the domain and data. Therefore, it's most useful as a tool for **comparing different models**, rather than as saying that a single model is \"_good_\"."
      ]
    },
    {
      "cell_type": "markdown",
      "metadata": {
        "id": "3kg8SV3CBvMy"
      },
      "source": [
        "Up until now we have been pulling information from the fitted model piece by piece. However, there is a nice summary command with **statsmodels** that lets you access a bunch of information about your regression at once. Don't worry about all of the other statistics and details listed there, just know that almost all of the information you'll ever need about a linear regression model can be found there."
      ]
    },
    {
      "cell_type": "code",
      "execution_count": null,
      "metadata": {
        "id": "PRiKRVJJBvMy"
      },
      "outputs": [],
      "source": [
        "sm_lm.summary()"
      ]
    },
    {
      "cell_type": "markdown",
      "metadata": {
        "id": "IWVAdynKBvMy"
      },
      "source": [
        "## Training a Linear Regression Manually\n",
        "\n",
        "We saw how easy it is to use Python to fit (i.e. train) a linear regression model. Let's go ahead and confirm that the manual approaches we've seen, and the intuition behind them also make sense.\n",
        "\n",
        "Most often we'll see a linear regression defined for one $i^{th}$ observation or training example. Which, for the feature $x_i$ and outcome $y_i$, is written as:\n",
        "$$y_i = \\beta_0 1 + \\beta_1 x_i$$\n",
        "\n",
        "However, we also saw that this can be written in vector or matrix notation where the matrix, $X$, has a column of 1's in it.\n",
        "$$\\vec{y} = X \\vec{\\beta}$$\n",
        "where\n",
        "$$\\vec{\\beta} = \\begin{bmatrix}\\beta_0 \\\\ \\beta_1\\end{bmatrix}$$\n",
        "Then, since (or if) the columns of the matrix $X$ are linearly independent, then the matrix $(X^T X)$ has an inverse, and the model parameters can be calculated directly using:\n",
        "$$\\vec{\\beta} = (X^T X)^{-1} X^T \\vec{y}$$\n",
        "\n",
        "Let's now confirm this works using the parenthood data. We'll first create the matrix $X$, being sure to add a $1$ column since that is needed to estimate $\\beta_0$.\n",
        ""
      ]
    },
    {
      "cell_type": "code",
      "execution_count": null,
      "metadata": {
        "id": "D9doYuPYBvMy"
      },
      "outputs": [],
      "source": [
        "X = pd.DataFrame({'intercept': 1, 'parent_sleep': df.parent_sleep})\n",
        "X.head(n=3)"
      ]
    },
    {
      "cell_type": "markdown",
      "metadata": {
        "id": "HpboTLPlBvMy"
      },
      "source": [
        "Let's now do all of the remaining calculations, one step at a time."
      ]
    },
    {
      "cell_type": "code",
      "execution_count": null,
      "metadata": {
        "id": "cHegl_eIBvMz"
      },
      "outputs": [],
      "source": [
        "# Calculate X^T X\n",
        "XtX = np.dot(X.T, X)\n",
        "\n",
        "# Then the inverse of X^T X\n",
        "XtX_inv = np.linalg.inv(XtX)\n",
        "\n",
        "# Then X^T y\n",
        "Xty = np.dot(X.T, df.parent_grumpy)\n",
        "\n",
        "# And lastly the coefficients\n",
        "betas = np.dot(XtX_inv, Xty)\n",
        "betas"
      ]
    },
    {
      "cell_type": "markdown",
      "metadata": {
        "id": "zgBSEVn5BvMz"
      },
      "source": [
        "While the linear algebra approach is useful for understanding the underlying math from another point of view, it not immediately intuitive why it works. The following diagram is maybe the best attempt at trying to explain the intuition behind this linear algebra approach.\n",
        "\n",
        "![projection](https://github.com/sgeinitz/CS3120/blob/main/images/projection.png?raw=true)\n",
        "\n",
        "That image is telling us that the any prediction coming out of our model is going to be in the column space of $X$ (i.e. it will lay in a space that spanned by all possible linear combinations of the columns of $X$.) It is not super important that you know this, but it's a fun alternative way to see how linear regression models are fit to their data.\n",
        "\n",
        "The more intuitive way to explain how we fit a linear regression model is by looking more precisely at that quantity we want to minimize, namely the SSE:\n",
        "$$\\text{SSE} = \\sum_{i=1}^{n} (y_i - \\hat{y}_i)^2$$\n",
        "\n",
        "Recall that since $\\hat{y}_i$ is a the prediction for the $i^{th}$ observation, we can write it as $\\beta_0 + \\beta_1 x_i$, and thus rewrite SSE as:\n",
        "$$\\text{SSE} = \\sum_{i=1}^{n} \\left(y_i - (\\beta_0 + \\beta_1 x_i)\\right)^2$$\n",
        "\n",
        "Since there are two parameters, $\\beta_0, \\beta_1$, it's easy for us to visualize what the SSE looks like as a function of these two parameters. Below is a heatmap or surface plot of these. Again, to train the model we need to find the model parameter values that minimize SSE. Look at the plot below to see if you can roughly guess what the parameter values are."
      ]
    },
    {
      "cell_type": "code",
      "execution_count": null,
      "metadata": {
        "id": "3ZX41D95BvMz"
      },
      "outputs": [],
      "source": [
        "beta0_range = 25\n",
        "beta0 = np.arange(lm.intercept_+beta0_range, lm.intercept_-beta0_range, -0.5)\n",
        "beta1_range = 4\n",
        "beta1 = np.arange(lm.coef_[0]-beta1_range, lm.coef_[0]+beta1_range, 0.1)\n",
        "surf = np.array( [[np.square(df.parent_grumpy - (beta0[i] + beta1[j]*df.parent_sleep)).sum() for j in range(len(beta1))] for i in range(len(beta0))] )\n",
        "df_surf = pd.DataFrame(surf, columns=beta1, index=beta0)\n",
        "\n",
        "fig, ax = plt.subplots(figsize=(10, 8))\n",
        "sns.heatmap(df_surf, cbar_kws={'label': 'SSE'}, cmap=\"RdYlGn_r\", ax=ax)\n",
        "ax.contour(np.arange(.5, df_surf.shape[1]), np.arange(.5, df_surf.shape[0]), df_surf, colors='black', levels=[1960, 9000, 50000, 150000], linewidths=0.5)\n",
        "\n",
        "plt.xlabel(\"beta1\")\n",
        "plt.ylabel(\"beta0\")\n",
        "plt.show()\n"
      ]
    },
    {
      "cell_type": "markdown",
      "metadata": {
        "id": "OoHOMzYeBvMz"
      },
      "source": [
        "You probably already figured out how to find the parameter values above, which is to look at the values of $beta_0$ and $\\beta_1$ that corresponded to the lowest point on the surface. We can look the data used in the plot and see here."
      ]
    },
    {
      "cell_type": "code",
      "execution_count": null,
      "metadata": {
        "id": "xdfBJp-8BvMz"
      },
      "outputs": [],
      "source": [
        "# find the minimum of the surface\n",
        "beta0_min, beta1_min = np.unravel_index(surf.argmin(), surf.shape)\n",
        "beta0[beta0_min], beta1[beta1_min]"
      ]
    },
    {
      "cell_type": "markdown",
      "metadata": {
        "id": "3NXcpriCBvMz"
      },
      "source": [
        "Notice that those values are nearly exactly what we found using **statsmodels**, **sklearn**, as well as the linear algebra approach. Let's try one more way of finding these parameter values now. For this we'll use calculus to solve for values of $\\beta_0$ and $\\beta_1$ that give us the minimum on the surface above (i.e. the value where the slope of the surface is zero).\n",
        "\n",
        "If you recall from Calculus class, we simply need to write the SSE as a function of the model parameters, $\\beta_0$, $\\beta_1$, and set it to zero, then solve. It's not important that you know how to do this exactly, but it's important to know that this is yet another way to think about \"_training_\" a linear regression model. Let's first explicitly state that the SSE is a function of the model parameters:\n",
        "$$\\text{SSE}(\\beta_0, \\beta_1) = \\sum_{i=1}^{n} \\left( y_i - (\\beta_0 + \\beta_1 x_i) \\right)^2$$\n"
      ]
    },
    {
      "cell_type": "markdown",
      "metadata": {
        "id": "Fxzp6m4oBvMz"
      },
      "source": [
        "Steps to Solve for $\\beta_0$ and $\\beta_1$ Using Calculus\n",
        "\n",
        "1. Partial Derivatives\n",
        "   - To minimize SSE, take the partial derivatives of SSE with respect to $\\beta_0$ and $\\beta_1$, and set them equal to zero.\n",
        "\n",
        "   Partial Derivative with respect to $\\beta_0$:\n",
        "   $$\\frac{\\partial \\text{SSE}}{\\partial \\beta_0} = \\sum_{i=1}^{n} -2 \\cdot \\left( y_i - \\beta_0 - \\beta_1 \\cdot x_i \\right) = 0$$\n",
        "\n",
        "   Partial Derivative with respect to $\\beta_1$:\n",
        "   $$\\frac{\\partial \\text{SSE}}{\\partial \\beta_1} = \\sum_{i=1}^{n} -2 \\cdot x_i \\cdot \\left( y_i - \\beta_0 - \\beta_1 \\cdot x_i \\right) = 0$$\n",
        "\n",
        "2. Simplify the Equations\n",
        "   - Simplify the partial derivative equations to form two normal equations.\n",
        "\n",
        "   For $\\beta_0$:\n",
        "   $$\\sum_{i=1}^{n} \\left( y_i - \\beta_0 - \\beta_1 \\cdot x_i \\right) = 0$$\n",
        "   - Expanding and beginning to isolate $\\beta_0$, we get:\n",
        "   $$\\sum_{i=1}^{n} y_i - n \\cdot \\beta_0 + \\beta_1 \\sum_{i=1}^{n} x_i = 0 \\quad \\rightarrow \\quad n \\cdot \\beta_0 = \\sum_{i=1}^{n} y_i -\\beta_1 \\cdot \\sum_{i=1}^{n} x_i $$\n",
        "   - Divide by $n$ to get:\n",
        "   $$\\beta_0 = \\bar{y} - \\beta_1 \\cdot \\bar{x}$$\n",
        "   where $\\bar{y} = \\frac{1}{n} \\sum_{i=1}^{n} y_i$ and $\\bar{x} = \\frac{1}{n} \\sum_{i=1}^{n} x_i$ are the means of $y$ and $x$, respectively.\n",
        "\n",
        "   For $\\beta_1$:\n",
        "   $$\\sum_{i=1}^{n} x_i \\cdot y_i = \\beta_0 \\cdot \\sum_{i=1}^{n} x_i + \\beta_1 \\cdot \\sum_{i=1}^{n} x_i^2$$\n",
        "   - Substitute $\\beta_0 = \\bar{y} - \\beta_1 \\cdot \\bar{x}$ into this equation:\n",
        "   $$\\sum_{i=1}^{n} x_i \\cdot y_i = (\\bar{y} - \\beta_1 \\cdot \\bar{x}) \\cdot \\sum_{i=1}^{n} x_i + \\beta_1 \\cdot \\sum_{i=1}^{n} x_i^2$$\n",
        "   - After expanding and simplifying:\n",
        "   $$\\beta_1 = \\frac{\\sum_{i=1}^{n} \\left( x_i - \\bar{x} \\right) \\left( y_i - \\bar{y} \\right)}{\\sum_{i=1}^{n} \\left( x_i - \\bar{x} \\right)^2}$$\n",
        "\n",
        "Let's now use these formulas to \"train\" the model (i.e. calculate the values of the parameters $\\beta_0$, $\\beta_1$) for our given training dataset.\n"
      ]
    },
    {
      "cell_type": "code",
      "execution_count": null,
      "metadata": {
        "id": "Vy_qQYoYBvM0"
      },
      "outputs": [],
      "source": [
        "n = df.shape[0] # this is the number of observations or training examples\n",
        "b1_numerator = np.sum((df.parent_grumpy - df.parent_grumpy.mean()) * (df.parent_sleep - df.parent_sleep.mean()))\n",
        "b1_denominator = np.sum((df.parent_sleep - df.parent_sleep.mean()) ** 2)\n",
        "beta1_hat = b1_numerator / b1_denominator\n",
        "\n",
        "beta0_hat = df.parent_grumpy.mean() - beta1_hat * df.parent_sleep.mean()\n",
        "(beta0_hat, beta1_hat)"
      ]
    },
    {
      "cell_type": "markdown",
      "metadata": {
        "id": "lsD7yXX4BvM0"
      },
      "source": [
        "As you can see, those values are the exact same as we found earlier. You may have noticed that the formulas we found for $\\beta_0$ and $\\beta_1$ above contain some terms that look similar to variance and covariance calculations. Given that, we could also calculate these values in a more concise manner using **numpy's** functions for these descriptive statistics."
      ]
    },
    {
      "cell_type": "code",
      "execution_count": null,
      "metadata": {
        "id": "3kmZi1QGBvM0"
      },
      "outputs": [],
      "source": [
        "cov = np.cov(df.parent_sleep, df.parent_grumpy, ddof=0) # calculate the covariance of x=df.parent_sleep and y=df.parent_grumpy\n",
        "var_x = np.var(df.parent_sleep, ddof=0) # calculate the variance of x=df.parent_sleep\n",
        "\n",
        "beta1_hat = cov[0,1] / var_x\n",
        "beta0_hat = df.parent_grumpy.mean() - beta1_hat * df.parent_sleep.mean()\n",
        "(beta0_hat, beta1_hat)"
      ]
    },
    {
      "cell_type": "markdown",
      "metadata": {
        "id": "ptk3QZjRBvM0"
      },
      "source": [
        "Hopefully it is somewhat satisfying to see that regardless of the approach we used, we still come up with the same model fit (i.e. the model parameters have the same values). We won't look at them here, but there are even more ways to state these formulas, including with the correlation between $x$ and $y$.\n",
        "\n",
        "Next, let's assume that when the data was collected, the amount of sleep a parent had was recorded in minuts. The cell below creates this column, `parent_sleep_minutes`. Use this for the following question."
      ]
    },
    {
      "cell_type": "code",
      "execution_count": null,
      "metadata": {
        "id": "Iqo4rdEIBvM0"
      },
      "outputs": [],
      "source": [
        "df['parent_sleep_minutes'] = df['parent_sleep']*60\n",
        "df.parent_sleep_minutes.describe()"
      ]
    },
    {
      "cell_type": "markdown",
      "metadata": {
        "id": "8UaJS3bGBvM0"
      },
      "source": [
        " ***\n",
        "\n",
        " ### Q6: Fit a new linear regression model with **statsmodels** where `parent_sleep_minutes` is used to predict `parent_grumpy`. Does this affect the model parameter estimates? Are they the same? Or different?\n",
        "\n",
        " \\<modify the code in the cell below and modify it to fit the linear regression model and retrieve the model summary. Then input your here - be sure to state what the grumpiness value the model predicted\\>\n",
        "\n",
        " ***"
      ]
    },
    {
      "cell_type": "code",
      "execution_count": null,
      "metadata": {
        "id": "OY7mJHLmBvM0"
      },
      "outputs": [],
      "source": [
        "sm_lm_min = smf.ols(formula=' ~ ', data=df).fit()\n",
        "sm_lm_min.params"
      ]
    },
    {
      "cell_type": "markdown",
      "metadata": {
        "id": "7a0GjWoQBvM1"
      },
      "source": [
        "***\n",
        "\n",
        "### Q7: Does having `parent_sleep` measured in different units affect how well the model fits the data? In other words, is the $R^2$ different from when `parent_sleep` was measured in hours? Also, are the p-values associated with $\\beta_0$, $\\beta_1$ different? What does this tell you about how linear regression models are affected by a variable being scaled?\n",
        "\n",
        "\\<insert a code cell below then use `sm_lm_min.summary()` to retrieve the model summary and then input your answer here\\>\n",
        "\n",
        "***"
      ]
    },
    {
      "cell_type": "markdown",
      "metadata": {
        "id": "6Gh6O5CqBvM1"
      },
      "source": [
        "### Multiple Linear Regression\n",
        "\n",
        "What we've looked at so far is commonly referred to as *Simple Linear Regression*, which is when there is one *predictor* (or *feature* or *independent variable*), $x$, and we are trying to predict the *outcome* or *response* or *dependent variable*, $y$. Linear Regression is a powerful and commonly used tool though, so you can imagine that it's not too difficult to add more predictors. Below is an example where we'll try fitting a *Multiple linear Regression* model, which is a linear regression model with more two or more *predictors* (or *features* or *independent variables*).\n",
        "\n",
        "The dataset is a (hypothetical) company's advertising spend and sales they have made for each day. There are four columns in the data:\n",
        "* `tv` - amount of money spent on television advertising last week\n",
        "* `radio` - amount of money spent on radio advertising last week\n",
        "* `newspaper` - amount of money spent on newpaper advertising last week\n",
        "* `sales` - number of widgets (in thousands) the company sold last week"
      ]
    },
    {
      "cell_type": "code",
      "execution_count": null,
      "metadata": {
        "id": "nSfYn8CkBvM1"
      },
      "outputs": [],
      "source": [
        "df_adv = pd.read_csv('https://raw.githubusercontent.com/sgeinitz/CS3120/main/lab1_data_advertising.csv')\n",
        "df_adv.head()"
      ]
    },
    {
      "cell_type": "markdown",
      "metadata": {
        "id": "qVQaH1IPBvM1"
      },
      "source": [
        "Let's also get a quick idea of what the data looks like in terms of min, max, mean, etc."
      ]
    },
    {
      "cell_type": "code",
      "execution_count": null,
      "metadata": {
        "id": "NypuAmkvBvM1"
      },
      "outputs": [],
      "source": [
        "df_adv.describe()"
      ]
    },
    {
      "cell_type": "markdown",
      "metadata": {
        "id": "zBOk0YB8BvM1"
      },
      "source": [
        "***\n",
        "\n",
        " ### Q8: As we said, any data analysis or modeling task first requires looking at or visualizing the data. Plot the each of the independent variables (`tv`, `radio`, `newspaper`) against the dependent variable, `sales`. Then state which of them you think looks like it going to best predict `sales`.\n",
        "\n",
        "\\<modify the code cell below (the first is done for you) and then input your answer here\\>\n",
        "\n",
        "***\n",
        "\n",
        "If you can, try to put all of the plots together in a single figure."
      ]
    },
    {
      "cell_type": "code",
      "execution_count": null,
      "metadata": {
        "id": "cBoA5tjsBvM1"
      },
      "outputs": [],
      "source": [
        "# plot all three of the features against sales\n",
        "fig, (ax1, ax2, ax3) = plt.subplots(1, 3, figsize=(15, 5))\n",
        "sns.scatterplot(data=df_adv, x='tv', y='sales', ax=ax1)\n",
        "sns.scatterplot(data=df_adv, x='radio', y='sales', ax=ax2)\n",
        "sns.scatterplot(data=df_adv, x='newspaper', y='sales', ax=ax3)\n",
        "plt.show()\n"
      ]
    },
    {
      "cell_type": "markdown",
      "metadata": {
        "id": "fqKdJFbNBvM2"
      },
      "source": [
        "Next, let's fit a linear regression model using all three variables."
      ]
    },
    {
      "cell_type": "code",
      "execution_count": null,
      "metadata": {
        "id": "laIa1YIFBvM2"
      },
      "outputs": [],
      "source": [
        "lm_adv = smf.ols(formula='sales ~ tv + radio + newspaper', data=df_adv).fit()\n",
        "lm_adv.summary()"
      ]
    },
    {
      "cell_type": "markdown",
      "metadata": {
        "id": "Yu-24sZABvM2"
      },
      "source": [
        "It looks like that model fits pretty well. But, based on the plots you saw above, it looks like there is not an exact linear relationship between `tv` and `sales`...\n",
        "\n",
        "***\n",
        "\n",
        "### Q9: Try fitting a model to this dataset with `radio` and `newspaper` included, but use the square root of `tv`. Then print the summary of the model to see the $R^2$. If you worked for this company, which model do you think you would use? The one above or this new one you created here? Explain why.\n",
        "\n",
        "\\<fix the code cell below to fit the model described above and then input your answer here>\n",
        "\n",
        "***\n",
        "\n",
        "Hints:\n",
        "* Use [this reference](https://www.statsmodels.org/dev/example_formulas.html#functions) to see how to include a function of an independent variable in your model\n",
        "* The function, `np.sqrt( )` is numpy's square root function"
      ]
    },
    {
      "cell_type": "code",
      "execution_count": null,
      "metadata": {
        "id": "Awm36ufxBvM2"
      },
      "outputs": [],
      "source": [
        "lm_adv = smf.ols(formula='sales ~ ', data=df_adv).fit()\n",
        "lm_adv.summary()"
      ]
    },
    {
      "cell_type": "markdown",
      "metadata": {
        "id": "AY-MLHaaBvM2"
      },
      "source": [
        "Nice work completing this notebook. If you didn't already appreciate the power of linear regression, hopefully this helped convince you in some way. Even though we will use lots of other types of models, you will almost always want to start with linear regression because of its simplicity, stability, and flexibility. We'll always want to use the *right model for the task at hand* though, so we probably don't want to be too much like either of the people below :)\n",
        "\n",
        "![Example Image](https://media.licdn.com/dms/image/v2/D4E22AQFLVt8372oIQA/feedshare-shrink_800/feedshare-shrink_800/0/1710511681665?e=1727308800&v=beta&t=XephAeg6t9otHgyXtIHxbYiAxJdKOkH0uP0pU9eP2oY)\n"
      ]
    }
  ],
  "metadata": {
    "kernelspec": {
      "display_name": "Python 3 (ipykernel)",
      "language": "python",
      "name": "python3"
    },
    "language_info": {
      "codemirror_mode": {
        "name": "ipython",
        "version": 3
      },
      "file_extension": ".py",
      "mimetype": "text/x-python",
      "name": "python",
      "nbconvert_exporter": "python",
      "pygments_lexer": "ipython3",
      "version": "3.12.4"
    },
    "toc": {
      "base_numbering": 1,
      "nav_menu": {},
      "number_sections": true,
      "sideBar": true,
      "skip_h1_title": false,
      "title_cell": "Table of Contents",
      "title_sidebar": "Contents",
      "toc_cell": false,
      "toc_position": {},
      "toc_section_display": true,
      "toc_window_display": false
    },
    "colab": {
      "provenance": [],
      "include_colab_link": true
    },
    "widgets": {
      "application/vnd.jupyter.widget-state+json": {
        "742dcd8ede8744ea917435b626a683e9": {
          "model_module": "@jupyter-widgets/controls",
          "model_name": "VBoxModel",
          "model_module_version": "1.5.0",
          "state": {
            "_dom_classes": [
              "widget-interact"
            ],
            "_model_module": "@jupyter-widgets/controls",
            "_model_module_version": "1.5.0",
            "_model_name": "VBoxModel",
            "_view_count": null,
            "_view_module": "@jupyter-widgets/controls",
            "_view_module_version": "1.5.0",
            "_view_name": "VBoxView",
            "box_style": "",
            "children": [
              "IPY_MODEL_a8dc5af8979942b3840d53a6d0f1884a",
              "IPY_MODEL_e7e81a9eb091495eafe49c99b6b15689",
              "IPY_MODEL_6c7428e7209146fabe91a02e5467e46b"
            ],
            "layout": "IPY_MODEL_07ea356c1fed4e0b8a284aee30a159b0"
          }
        },
        "a8dc5af8979942b3840d53a6d0f1884a": {
          "model_module": "@jupyter-widgets/controls",
          "model_name": "IntSliderModel",
          "model_module_version": "1.5.0",
          "state": {
            "_dom_classes": [],
            "_model_module": "@jupyter-widgets/controls",
            "_model_module_version": "1.5.0",
            "_model_name": "IntSliderModel",
            "_view_count": null,
            "_view_module": "@jupyter-widgets/controls",
            "_view_module_version": "1.5.0",
            "_view_name": "IntSliderView",
            "continuous_update": true,
            "description": "slope",
            "description_tooltip": null,
            "disabled": false,
            "layout": "IPY_MODEL_f43254ae62904a569aed6b506979f461",
            "max": 20,
            "min": -20,
            "orientation": "horizontal",
            "readout": true,
            "readout_format": "d",
            "step": 1,
            "style": "IPY_MODEL_33dac704fe0d4734a8bbc70cc4950a02",
            "value": -9
          }
        },
        "e7e81a9eb091495eafe49c99b6b15689": {
          "model_module": "@jupyter-widgets/controls",
          "model_name": "IntSliderModel",
          "model_module_version": "1.5.0",
          "state": {
            "_dom_classes": [],
            "_model_module": "@jupyter-widgets/controls",
            "_model_module_version": "1.5.0",
            "_model_name": "IntSliderModel",
            "_view_count": null,
            "_view_module": "@jupyter-widgets/controls",
            "_view_module_version": "1.5.0",
            "_view_name": "IntSliderView",
            "continuous_update": true,
            "description": "intercept",
            "description_tooltip": null,
            "disabled": false,
            "layout": "IPY_MODEL_3e98399030604f63bcbe2c455818900f",
            "max": 200,
            "min": 0,
            "orientation": "horizontal",
            "readout": true,
            "readout_format": "d",
            "step": 1,
            "style": "IPY_MODEL_ceb98116ae8f433e85807bb526d34ae0",
            "value": 125
          }
        },
        "6c7428e7209146fabe91a02e5467e46b": {
          "model_module": "@jupyter-widgets/output",
          "model_name": "OutputModel",
          "model_module_version": "1.0.0",
          "state": {
            "_dom_classes": [],
            "_model_module": "@jupyter-widgets/output",
            "_model_module_version": "1.0.0",
            "_model_name": "OutputModel",
            "_view_count": null,
            "_view_module": "@jupyter-widgets/output",
            "_view_module_version": "1.0.0",
            "_view_name": "OutputView",
            "layout": "IPY_MODEL_83dd4e893f7e402fb43bb71fafc35f56",
            "msg_id": "",
            "outputs": [
              {
                "output_type": "display_data",
                "data": {
                  "text/plain": "<Figure size 900x600 with 1 Axes>",
                  "image/png": "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\n"
                },
                "metadata": {}
              }
            ]
          }
        },
        "07ea356c1fed4e0b8a284aee30a159b0": {
          "model_module": "@jupyter-widgets/base",
          "model_name": "LayoutModel",
          "model_module_version": "1.2.0",
          "state": {
            "_model_module": "@jupyter-widgets/base",
            "_model_module_version": "1.2.0",
            "_model_name": "LayoutModel",
            "_view_count": null,
            "_view_module": "@jupyter-widgets/base",
            "_view_module_version": "1.2.0",
            "_view_name": "LayoutView",
            "align_content": null,
            "align_items": null,
            "align_self": null,
            "border": null,
            "bottom": null,
            "display": null,
            "flex": null,
            "flex_flow": null,
            "grid_area": null,
            "grid_auto_columns": null,
            "grid_auto_flow": null,
            "grid_auto_rows": null,
            "grid_column": null,
            "grid_gap": null,
            "grid_row": null,
            "grid_template_areas": null,
            "grid_template_columns": null,
            "grid_template_rows": null,
            "height": null,
            "justify_content": null,
            "justify_items": null,
            "left": null,
            "margin": null,
            "max_height": null,
            "max_width": null,
            "min_height": null,
            "min_width": null,
            "object_fit": null,
            "object_position": null,
            "order": null,
            "overflow": null,
            "overflow_x": null,
            "overflow_y": null,
            "padding": null,
            "right": null,
            "top": null,
            "visibility": null,
            "width": null
          }
        },
        "f43254ae62904a569aed6b506979f461": {
          "model_module": "@jupyter-widgets/base",
          "model_name": "LayoutModel",
          "model_module_version": "1.2.0",
          "state": {
            "_model_module": "@jupyter-widgets/base",
            "_model_module_version": "1.2.0",
            "_model_name": "LayoutModel",
            "_view_count": null,
            "_view_module": "@jupyter-widgets/base",
            "_view_module_version": "1.2.0",
            "_view_name": "LayoutView",
            "align_content": null,
            "align_items": null,
            "align_self": null,
            "border": null,
            "bottom": null,
            "display": null,
            "flex": null,
            "flex_flow": null,
            "grid_area": null,
            "grid_auto_columns": null,
            "grid_auto_flow": null,
            "grid_auto_rows": null,
            "grid_column": null,
            "grid_gap": null,
            "grid_row": null,
            "grid_template_areas": null,
            "grid_template_columns": null,
            "grid_template_rows": null,
            "height": null,
            "justify_content": null,
            "justify_items": null,
            "left": null,
            "margin": null,
            "max_height": null,
            "max_width": null,
            "min_height": null,
            "min_width": null,
            "object_fit": null,
            "object_position": null,
            "order": null,
            "overflow": null,
            "overflow_x": null,
            "overflow_y": null,
            "padding": null,
            "right": null,
            "top": null,
            "visibility": null,
            "width": null
          }
        },
        "33dac704fe0d4734a8bbc70cc4950a02": {
          "model_module": "@jupyter-widgets/controls",
          "model_name": "SliderStyleModel",
          "model_module_version": "1.5.0",
          "state": {
            "_model_module": "@jupyter-widgets/controls",
            "_model_module_version": "1.5.0",
            "_model_name": "SliderStyleModel",
            "_view_count": null,
            "_view_module": "@jupyter-widgets/base",
            "_view_module_version": "1.2.0",
            "_view_name": "StyleView",
            "description_width": "",
            "handle_color": null
          }
        },
        "3e98399030604f63bcbe2c455818900f": {
          "model_module": "@jupyter-widgets/base",
          "model_name": "LayoutModel",
          "model_module_version": "1.2.0",
          "state": {
            "_model_module": "@jupyter-widgets/base",
            "_model_module_version": "1.2.0",
            "_model_name": "LayoutModel",
            "_view_count": null,
            "_view_module": "@jupyter-widgets/base",
            "_view_module_version": "1.2.0",
            "_view_name": "LayoutView",
            "align_content": null,
            "align_items": null,
            "align_self": null,
            "border": null,
            "bottom": null,
            "display": null,
            "flex": null,
            "flex_flow": null,
            "grid_area": null,
            "grid_auto_columns": null,
            "grid_auto_flow": null,
            "grid_auto_rows": null,
            "grid_column": null,
            "grid_gap": null,
            "grid_row": null,
            "grid_template_areas": null,
            "grid_template_columns": null,
            "grid_template_rows": null,
            "height": null,
            "justify_content": null,
            "justify_items": null,
            "left": null,
            "margin": null,
            "max_height": null,
            "max_width": null,
            "min_height": null,
            "min_width": null,
            "object_fit": null,
            "object_position": null,
            "order": null,
            "overflow": null,
            "overflow_x": null,
            "overflow_y": null,
            "padding": null,
            "right": null,
            "top": null,
            "visibility": null,
            "width": null
          }
        },
        "ceb98116ae8f433e85807bb526d34ae0": {
          "model_module": "@jupyter-widgets/controls",
          "model_name": "SliderStyleModel",
          "model_module_version": "1.5.0",
          "state": {
            "_model_module": "@jupyter-widgets/controls",
            "_model_module_version": "1.5.0",
            "_model_name": "SliderStyleModel",
            "_view_count": null,
            "_view_module": "@jupyter-widgets/base",
            "_view_module_version": "1.2.0",
            "_view_name": "StyleView",
            "description_width": "",
            "handle_color": null
          }
        },
        "83dd4e893f7e402fb43bb71fafc35f56": {
          "model_module": "@jupyter-widgets/base",
          "model_name": "LayoutModel",
          "model_module_version": "1.2.0",
          "state": {
            "_model_module": "@jupyter-widgets/base",
            "_model_module_version": "1.2.0",
            "_model_name": "LayoutModel",
            "_view_count": null,
            "_view_module": "@jupyter-widgets/base",
            "_view_module_version": "1.2.0",
            "_view_name": "LayoutView",
            "align_content": null,
            "align_items": null,
            "align_self": null,
            "border": null,
            "bottom": null,
            "display": null,
            "flex": null,
            "flex_flow": null,
            "grid_area": null,
            "grid_auto_columns": null,
            "grid_auto_flow": null,
            "grid_auto_rows": null,
            "grid_column": null,
            "grid_gap": null,
            "grid_row": null,
            "grid_template_areas": null,
            "grid_template_columns": null,
            "grid_template_rows": null,
            "height": null,
            "justify_content": null,
            "justify_items": null,
            "left": null,
            "margin": null,
            "max_height": null,
            "max_width": null,
            "min_height": null,
            "min_width": null,
            "object_fit": null,
            "object_position": null,
            "order": null,
            "overflow": null,
            "overflow_x": null,
            "overflow_y": null,
            "padding": null,
            "right": null,
            "top": null,
            "visibility": null,
            "width": null
          }
        },
        "7c8acb0e70234276b7770bf475dfdb80": {
          "model_module": "@jupyter-widgets/controls",
          "model_name": "VBoxModel",
          "model_module_version": "1.5.0",
          "state": {
            "_dom_classes": [
              "widget-interact"
            ],
            "_model_module": "@jupyter-widgets/controls",
            "_model_module_version": "1.5.0",
            "_model_name": "VBoxModel",
            "_view_count": null,
            "_view_module": "@jupyter-widgets/controls",
            "_view_module_version": "1.5.0",
            "_view_name": "VBoxView",
            "box_style": "",
            "children": [
              "IPY_MODEL_6ac93c89284044a0af8442cd988baa13",
              "IPY_MODEL_a65dadbb6587405da6e114609c986366",
              "IPY_MODEL_0ac12b63451e44189eb2a46dffd1125d"
            ],
            "layout": "IPY_MODEL_c26ca06bb1cd40279f4cf95f618757a4"
          }
        },
        "6ac93c89284044a0af8442cd988baa13": {
          "model_module": "@jupyter-widgets/controls",
          "model_name": "IntSliderModel",
          "model_module_version": "1.5.0",
          "state": {
            "_dom_classes": [],
            "_model_module": "@jupyter-widgets/controls",
            "_model_module_version": "1.5.0",
            "_model_name": "IntSliderModel",
            "_view_count": null,
            "_view_module": "@jupyter-widgets/controls",
            "_view_module_version": "1.5.0",
            "_view_name": "IntSliderView",
            "continuous_update": true,
            "description": "slope",
            "description_tooltip": null,
            "disabled": false,
            "layout": "IPY_MODEL_f409b88f6c604611b6e635c1a91b5054",
            "max": 20,
            "min": -20,
            "orientation": "horizontal",
            "readout": true,
            "readout_format": "d",
            "step": 1,
            "style": "IPY_MODEL_ffe3c1cdc18544b6a1433df44969c49f",
            "value": -9
          }
        },
        "a65dadbb6587405da6e114609c986366": {
          "model_module": "@jupyter-widgets/controls",
          "model_name": "IntSliderModel",
          "model_module_version": "1.5.0",
          "state": {
            "_dom_classes": [],
            "_model_module": "@jupyter-widgets/controls",
            "_model_module_version": "1.5.0",
            "_model_name": "IntSliderModel",
            "_view_count": null,
            "_view_module": "@jupyter-widgets/controls",
            "_view_module_version": "1.5.0",
            "_view_name": "IntSliderView",
            "continuous_update": true,
            "description": "intercept",
            "description_tooltip": null,
            "disabled": false,
            "layout": "IPY_MODEL_1b4b434368f34015b744134b46cf8666",
            "max": 200,
            "min": 0,
            "orientation": "horizontal",
            "readout": true,
            "readout_format": "d",
            "step": 1,
            "style": "IPY_MODEL_8d18e339e1154b51a613e4456d21d879",
            "value": 126
          }
        },
        "0ac12b63451e44189eb2a46dffd1125d": {
          "model_module": "@jupyter-widgets/output",
          "model_name": "OutputModel",
          "model_module_version": "1.0.0",
          "state": {
            "_dom_classes": [],
            "_model_module": "@jupyter-widgets/output",
            "_model_module_version": "1.0.0",
            "_model_name": "OutputModel",
            "_view_count": null,
            "_view_module": "@jupyter-widgets/output",
            "_view_module_version": "1.0.0",
            "_view_name": "OutputView",
            "layout": "IPY_MODEL_cc44dbf13028431890f188c979ecef7e",
            "msg_id": "",
            "outputs": [
              {
                "output_type": "display_data",
                "data": {
                  "text/plain": "<Figure size 900x600 with 1 Axes>",
                  "image/png": "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\n"
                },
                "metadata": {}
              }
            ]
          }
        },
        "c26ca06bb1cd40279f4cf95f618757a4": {
          "model_module": "@jupyter-widgets/base",
          "model_name": "LayoutModel",
          "model_module_version": "1.2.0",
          "state": {
            "_model_module": "@jupyter-widgets/base",
            "_model_module_version": "1.2.0",
            "_model_name": "LayoutModel",
            "_view_count": null,
            "_view_module": "@jupyter-widgets/base",
            "_view_module_version": "1.2.0",
            "_view_name": "LayoutView",
            "align_content": null,
            "align_items": null,
            "align_self": null,
            "border": null,
            "bottom": null,
            "display": null,
            "flex": null,
            "flex_flow": null,
            "grid_area": null,
            "grid_auto_columns": null,
            "grid_auto_flow": null,
            "grid_auto_rows": null,
            "grid_column": null,
            "grid_gap": null,
            "grid_row": null,
            "grid_template_areas": null,
            "grid_template_columns": null,
            "grid_template_rows": null,
            "height": null,
            "justify_content": null,
            "justify_items": null,
            "left": null,
            "margin": null,
            "max_height": null,
            "max_width": null,
            "min_height": null,
            "min_width": null,
            "object_fit": null,
            "object_position": null,
            "order": null,
            "overflow": null,
            "overflow_x": null,
            "overflow_y": null,
            "padding": null,
            "right": null,
            "top": null,
            "visibility": null,
            "width": null
          }
        },
        "f409b88f6c604611b6e635c1a91b5054": {
          "model_module": "@jupyter-widgets/base",
          "model_name": "LayoutModel",
          "model_module_version": "1.2.0",
          "state": {
            "_model_module": "@jupyter-widgets/base",
            "_model_module_version": "1.2.0",
            "_model_name": "LayoutModel",
            "_view_count": null,
            "_view_module": "@jupyter-widgets/base",
            "_view_module_version": "1.2.0",
            "_view_name": "LayoutView",
            "align_content": null,
            "align_items": null,
            "align_self": null,
            "border": null,
            "bottom": null,
            "display": null,
            "flex": null,
            "flex_flow": null,
            "grid_area": null,
            "grid_auto_columns": null,
            "grid_auto_flow": null,
            "grid_auto_rows": null,
            "grid_column": null,
            "grid_gap": null,
            "grid_row": null,
            "grid_template_areas": null,
            "grid_template_columns": null,
            "grid_template_rows": null,
            "height": null,
            "justify_content": null,
            "justify_items": null,
            "left": null,
            "margin": null,
            "max_height": null,
            "max_width": null,
            "min_height": null,
            "min_width": null,
            "object_fit": null,
            "object_position": null,
            "order": null,
            "overflow": null,
            "overflow_x": null,
            "overflow_y": null,
            "padding": null,
            "right": null,
            "top": null,
            "visibility": null,
            "width": null
          }
        },
        "ffe3c1cdc18544b6a1433df44969c49f": {
          "model_module": "@jupyter-widgets/controls",
          "model_name": "SliderStyleModel",
          "model_module_version": "1.5.0",
          "state": {
            "_model_module": "@jupyter-widgets/controls",
            "_model_module_version": "1.5.0",
            "_model_name": "SliderStyleModel",
            "_view_count": null,
            "_view_module": "@jupyter-widgets/base",
            "_view_module_version": "1.2.0",
            "_view_name": "StyleView",
            "description_width": "",
            "handle_color": null
          }
        },
        "1b4b434368f34015b744134b46cf8666": {
          "model_module": "@jupyter-widgets/base",
          "model_name": "LayoutModel",
          "model_module_version": "1.2.0",
          "state": {
            "_model_module": "@jupyter-widgets/base",
            "_model_module_version": "1.2.0",
            "_model_name": "LayoutModel",
            "_view_count": null,
            "_view_module": "@jupyter-widgets/base",
            "_view_module_version": "1.2.0",
            "_view_name": "LayoutView",
            "align_content": null,
            "align_items": null,
            "align_self": null,
            "border": null,
            "bottom": null,
            "display": null,
            "flex": null,
            "flex_flow": null,
            "grid_area": null,
            "grid_auto_columns": null,
            "grid_auto_flow": null,
            "grid_auto_rows": null,
            "grid_column": null,
            "grid_gap": null,
            "grid_row": null,
            "grid_template_areas": null,
            "grid_template_columns": null,
            "grid_template_rows": null,
            "height": null,
            "justify_content": null,
            "justify_items": null,
            "left": null,
            "margin": null,
            "max_height": null,
            "max_width": null,
            "min_height": null,
            "min_width": null,
            "object_fit": null,
            "object_position": null,
            "order": null,
            "overflow": null,
            "overflow_x": null,
            "overflow_y": null,
            "padding": null,
            "right": null,
            "top": null,
            "visibility": null,
            "width": null
          }
        },
        "8d18e339e1154b51a613e4456d21d879": {
          "model_module": "@jupyter-widgets/controls",
          "model_name": "SliderStyleModel",
          "model_module_version": "1.5.0",
          "state": {
            "_model_module": "@jupyter-widgets/controls",
            "_model_module_version": "1.5.0",
            "_model_name": "SliderStyleModel",
            "_view_count": null,
            "_view_module": "@jupyter-widgets/base",
            "_view_module_version": "1.2.0",
            "_view_name": "StyleView",
            "description_width": "",
            "handle_color": null
          }
        },
        "cc44dbf13028431890f188c979ecef7e": {
          "model_module": "@jupyter-widgets/base",
          "model_name": "LayoutModel",
          "model_module_version": "1.2.0",
          "state": {
            "_model_module": "@jupyter-widgets/base",
            "_model_module_version": "1.2.0",
            "_model_name": "LayoutModel",
            "_view_count": null,
            "_view_module": "@jupyter-widgets/base",
            "_view_module_version": "1.2.0",
            "_view_name": "LayoutView",
            "align_content": null,
            "align_items": null,
            "align_self": null,
            "border": null,
            "bottom": null,
            "display": null,
            "flex": null,
            "flex_flow": null,
            "grid_area": null,
            "grid_auto_columns": null,
            "grid_auto_flow": null,
            "grid_auto_rows": null,
            "grid_column": null,
            "grid_gap": null,
            "grid_row": null,
            "grid_template_areas": null,
            "grid_template_columns": null,
            "grid_template_rows": null,
            "height": null,
            "justify_content": null,
            "justify_items": null,
            "left": null,
            "margin": null,
            "max_height": null,
            "max_width": null,
            "min_height": null,
            "min_width": null,
            "object_fit": null,
            "object_position": null,
            "order": null,
            "overflow": null,
            "overflow_x": null,
            "overflow_y": null,
            "padding": null,
            "right": null,
            "top": null,
            "visibility": null,
            "width": null
          }
        }
      }
    }
  },
  "nbformat": 4,
  "nbformat_minor": 0
}